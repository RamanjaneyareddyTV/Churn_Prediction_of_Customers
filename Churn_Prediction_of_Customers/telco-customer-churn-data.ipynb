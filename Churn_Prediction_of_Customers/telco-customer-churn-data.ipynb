{
 "cells": [
  {
   "cell_type": "markdown",
   "id": "47fa0664",
   "metadata": {
    "papermill": {
     "duration": 0.042984,
     "end_time": "2021-12-21T16:49:38.602327",
     "exception": false,
     "start_time": "2021-12-21T16:49:38.559343",
     "status": "completed"
    },
    "tags": []
   },
   "source": [
    "# DATA DESCRIPTION \n",
    "The dataset was obtained from Kaggle, which contains around 7000 rows and 21 columns with 17 categorical columns, and 3 numerical columns, and 1 label column.\n",
    "\n",
    "customerID: A unique ID that identifies each customer.\n",
    "\n",
    "gender: The customer’s gender: Female,Male\n",
    "\n",
    "SeniorCitizen: Indicates if the customer is 65 or older: Yes, No\n",
    "\n",
    "Partner: Indicates if the customer has partner: Yes, No\n",
    "\n",
    "Dependents: Indicates if the customer lives with any dependents: Yes, No. Dependents could be children, parents, grandparents, etc.\n",
    "\n",
    "tenure: Indicates the total amount of months that the customer has been with the company.\n",
    "\n",
    "PhoneService: Indicates if the customer subscribes to home phone service with the company: Yes, No\n",
    "\n",
    "Multiple Lines: Indicates if the customer subscribes to multiple telephone lines with the company: Yes, No, No phone service\n",
    "\n",
    "Internet Service: Indicates if the customer subscribes to Internet service with the company: No, DSL, Fiber optic, No\n",
    "\n",
    "Online Security: Indicates if the customer subscribes to an additional online security service provided by the company: Yes, No, No internet service\n",
    "\n",
    "OnlineBackup: Indicates if the customer subscribes to an additional online backup service provided by the company: Yes, No, No internet service\n",
    "\n",
    "DeviceProtection: Indicates if the customer subscribes to an additional device protection plan for their Internet equipment provided by the company: Yes, No, No internet service\n",
    "\n",
    "TechSupport: Indicates if the customer subscribes to an additional technical support plan from the company with reduced wait times: Yes, No, No internet service\n",
    "\n",
    "StreamingTV: Indicates if the customer uses their Internet service to stream television programing from a third party provider: Yes, No, No internet service\n",
    "\n",
    "Streaming Movies: Indicates if the customer uses their Internet service to stream movies from a third party provider: Yes, No, No internet service\n",
    "\n",
    "Contract: Indicates the customer’s current contract type: Month-to-Month, One Year, Two Year.\n",
    "\n",
    "Paperless Billing: Indicates if the customer has chosen paperless billing: Yes, No\n",
    "\n",
    "Payment Method: Indicates how the customer pays their bill: Bank transfer, Credit card, Electronic check, Mailed Check\n",
    "\n",
    "Monthly Charge: Indicates the customer’s current total monthly charge for all their services from the company.\n",
    "\n",
    "Total Charges: Indicates the customer’s total charges, calculated to the end of the quarter specified above.\n",
    "\n",
    "Churn: Yes = the customer left the company this quarter. No = the customer remained with the company. Directly related to Churn Value."
   ]
  },
  {
   "cell_type": "markdown",
   "id": "36ffb3d9",
   "metadata": {
    "papermill": {
     "duration": 0.044523,
     "end_time": "2021-12-21T16:49:38.690121",
     "exception": false,
     "start_time": "2021-12-21T16:49:38.645598",
     "status": "completed"
    },
    "tags": []
   },
   "source": [
    "# Data Prepration\n",
    "\n",
    "Importing Libraries"
   ]
  },
  {
   "cell_type": "code",
   "execution_count": 1,
   "id": "d919a3e5",
   "metadata": {
    "papermill": {
     "duration": 1.134182,
     "end_time": "2021-12-21T16:49:39.867717",
     "exception": false,
     "start_time": "2021-12-21T16:49:38.733535",
     "status": "completed"
    },
    "tags": []
   },
   "outputs": [],
   "source": [
    "import numpy as np\n",
    "import pandas as pd\n",
    "import matplotlib.pyplot as plt\n",
    "%matplotlib inline\n",
    "import warnings\n",
    "warnings.filterwarnings('ignore')\n",
    "plt.rcParams['figure.figsize'] = (10.0, 8.0)\n",
    "import seaborn as sns"
   ]
  },
  {
   "cell_type": "code",
   "execution_count": 2,
   "id": "e1fde7ef",
   "metadata": {
    "papermill": {
     "duration": 0.106182,
     "end_time": "2021-12-21T16:49:40.017707",
     "exception": false,
     "start_time": "2021-12-21T16:49:39.911525",
     "status": "completed"
    },
    "tags": []
   },
   "outputs": [],
   "source": [
    "df = pd.read_csv('Tel_Customer_Churn_Dataset.csv')"
   ]
  },
  {
   "cell_type": "code",
   "execution_count": 3,
   "id": "3d4863f3",
   "metadata": {
    "papermill": {
     "duration": 0.083486,
     "end_time": "2021-12-21T16:49:40.145254",
     "exception": false,
     "start_time": "2021-12-21T16:49:40.061768",
     "status": "completed"
    },
    "tags": []
   },
   "outputs": [
    {
     "data": {
      "text/html": [
       "<div>\n",
       "<style scoped>\n",
       "    .dataframe tbody tr th:only-of-type {\n",
       "        vertical-align: middle;\n",
       "    }\n",
       "\n",
       "    .dataframe tbody tr th {\n",
       "        vertical-align: top;\n",
       "    }\n",
       "\n",
       "    .dataframe thead th {\n",
       "        text-align: right;\n",
       "    }\n",
       "</style>\n",
       "<table border=\"1\" class=\"dataframe\">\n",
       "  <thead>\n",
       "    <tr style=\"text-align: right;\">\n",
       "      <th></th>\n",
       "      <th>customerID</th>\n",
       "      <th>gender</th>\n",
       "      <th>SeniorCitizen</th>\n",
       "      <th>Partner</th>\n",
       "      <th>Dependents</th>\n",
       "      <th>tenure</th>\n",
       "      <th>PhoneService</th>\n",
       "      <th>MultipleLines</th>\n",
       "      <th>InternetService</th>\n",
       "      <th>OnlineSecurity</th>\n",
       "      <th>...</th>\n",
       "      <th>DeviceProtection</th>\n",
       "      <th>TechSupport</th>\n",
       "      <th>StreamingTV</th>\n",
       "      <th>StreamingMovies</th>\n",
       "      <th>Contract</th>\n",
       "      <th>PaperlessBilling</th>\n",
       "      <th>PaymentMethod</th>\n",
       "      <th>MonthlyCharges</th>\n",
       "      <th>TotalCharges</th>\n",
       "      <th>Churn</th>\n",
       "    </tr>\n",
       "  </thead>\n",
       "  <tbody>\n",
       "    <tr>\n",
       "      <th>0</th>\n",
       "      <td>7590-VHVEG</td>\n",
       "      <td>Female</td>\n",
       "      <td>0</td>\n",
       "      <td>Yes</td>\n",
       "      <td>No</td>\n",
       "      <td>1</td>\n",
       "      <td>No</td>\n",
       "      <td>No phone service</td>\n",
       "      <td>DSL</td>\n",
       "      <td>No</td>\n",
       "      <td>...</td>\n",
       "      <td>No</td>\n",
       "      <td>No</td>\n",
       "      <td>No</td>\n",
       "      <td>No</td>\n",
       "      <td>Month-to-month</td>\n",
       "      <td>Yes</td>\n",
       "      <td>Electronic check</td>\n",
       "      <td>29.85</td>\n",
       "      <td>29.85</td>\n",
       "      <td>No</td>\n",
       "    </tr>\n",
       "    <tr>\n",
       "      <th>1</th>\n",
       "      <td>5575-GNVDE</td>\n",
       "      <td>Male</td>\n",
       "      <td>0</td>\n",
       "      <td>No</td>\n",
       "      <td>No</td>\n",
       "      <td>34</td>\n",
       "      <td>Yes</td>\n",
       "      <td>No</td>\n",
       "      <td>DSL</td>\n",
       "      <td>Yes</td>\n",
       "      <td>...</td>\n",
       "      <td>Yes</td>\n",
       "      <td>No</td>\n",
       "      <td>No</td>\n",
       "      <td>No</td>\n",
       "      <td>One year</td>\n",
       "      <td>No</td>\n",
       "      <td>Mailed check</td>\n",
       "      <td>56.95</td>\n",
       "      <td>1889.5</td>\n",
       "      <td>No</td>\n",
       "    </tr>\n",
       "    <tr>\n",
       "      <th>2</th>\n",
       "      <td>3668-QPYBK</td>\n",
       "      <td>Male</td>\n",
       "      <td>0</td>\n",
       "      <td>No</td>\n",
       "      <td>No</td>\n",
       "      <td>2</td>\n",
       "      <td>Yes</td>\n",
       "      <td>No</td>\n",
       "      <td>DSL</td>\n",
       "      <td>Yes</td>\n",
       "      <td>...</td>\n",
       "      <td>No</td>\n",
       "      <td>No</td>\n",
       "      <td>No</td>\n",
       "      <td>No</td>\n",
       "      <td>Month-to-month</td>\n",
       "      <td>Yes</td>\n",
       "      <td>Mailed check</td>\n",
       "      <td>53.85</td>\n",
       "      <td>108.15</td>\n",
       "      <td>Yes</td>\n",
       "    </tr>\n",
       "    <tr>\n",
       "      <th>3</th>\n",
       "      <td>7795-CFOCW</td>\n",
       "      <td>Male</td>\n",
       "      <td>0</td>\n",
       "      <td>No</td>\n",
       "      <td>No</td>\n",
       "      <td>45</td>\n",
       "      <td>No</td>\n",
       "      <td>No phone service</td>\n",
       "      <td>DSL</td>\n",
       "      <td>Yes</td>\n",
       "      <td>...</td>\n",
       "      <td>Yes</td>\n",
       "      <td>Yes</td>\n",
       "      <td>No</td>\n",
       "      <td>No</td>\n",
       "      <td>One year</td>\n",
       "      <td>No</td>\n",
       "      <td>Bank transfer (automatic)</td>\n",
       "      <td>42.30</td>\n",
       "      <td>1840.75</td>\n",
       "      <td>No</td>\n",
       "    </tr>\n",
       "    <tr>\n",
       "      <th>4</th>\n",
       "      <td>9237-HQITU</td>\n",
       "      <td>Female</td>\n",
       "      <td>0</td>\n",
       "      <td>No</td>\n",
       "      <td>No</td>\n",
       "      <td>2</td>\n",
       "      <td>Yes</td>\n",
       "      <td>No</td>\n",
       "      <td>Fiber optic</td>\n",
       "      <td>No</td>\n",
       "      <td>...</td>\n",
       "      <td>No</td>\n",
       "      <td>No</td>\n",
       "      <td>No</td>\n",
       "      <td>No</td>\n",
       "      <td>Month-to-month</td>\n",
       "      <td>Yes</td>\n",
       "      <td>Electronic check</td>\n",
       "      <td>70.70</td>\n",
       "      <td>151.65</td>\n",
       "      <td>Yes</td>\n",
       "    </tr>\n",
       "  </tbody>\n",
       "</table>\n",
       "<p>5 rows × 21 columns</p>\n",
       "</div>"
      ],
      "text/plain": [
       "   customerID  gender  SeniorCitizen Partner Dependents  tenure PhoneService  \\\n",
       "0  7590-VHVEG  Female              0     Yes         No       1           No   \n",
       "1  5575-GNVDE    Male              0      No         No      34          Yes   \n",
       "2  3668-QPYBK    Male              0      No         No       2          Yes   \n",
       "3  7795-CFOCW    Male              0      No         No      45           No   \n",
       "4  9237-HQITU  Female              0      No         No       2          Yes   \n",
       "\n",
       "      MultipleLines InternetService OnlineSecurity  ... DeviceProtection  \\\n",
       "0  No phone service             DSL             No  ...               No   \n",
       "1                No             DSL            Yes  ...              Yes   \n",
       "2                No             DSL            Yes  ...               No   \n",
       "3  No phone service             DSL            Yes  ...              Yes   \n",
       "4                No     Fiber optic             No  ...               No   \n",
       "\n",
       "  TechSupport StreamingTV StreamingMovies        Contract PaperlessBilling  \\\n",
       "0          No          No              No  Month-to-month              Yes   \n",
       "1          No          No              No        One year               No   \n",
       "2          No          No              No  Month-to-month              Yes   \n",
       "3         Yes          No              No        One year               No   \n",
       "4          No          No              No  Month-to-month              Yes   \n",
       "\n",
       "               PaymentMethod MonthlyCharges  TotalCharges Churn  \n",
       "0           Electronic check          29.85         29.85    No  \n",
       "1               Mailed check          56.95        1889.5    No  \n",
       "2               Mailed check          53.85        108.15   Yes  \n",
       "3  Bank transfer (automatic)          42.30       1840.75    No  \n",
       "4           Electronic check          70.70        151.65   Yes  \n",
       "\n",
       "[5 rows x 21 columns]"
      ]
     },
     "execution_count": 3,
     "metadata": {},
     "output_type": "execute_result"
    }
   ],
   "source": [
    "df.head()"
   ]
  },
  {
   "cell_type": "markdown",
   "id": "10c436e6",
   "metadata": {
    "papermill": {
     "duration": 0.043824,
     "end_time": "2021-12-21T16:49:40.233147",
     "exception": false,
     "start_time": "2021-12-21T16:49:40.189323",
     "status": "completed"
    },
    "tags": []
   },
   "source": [
    "# Data Exploration"
   ]
  },
  {
   "cell_type": "code",
   "execution_count": 4,
   "id": "9b53bf03",
   "metadata": {
    "papermill": {
     "duration": 0.052529,
     "end_time": "2021-12-21T16:49:40.331432",
     "exception": false,
     "start_time": "2021-12-21T16:49:40.278903",
     "status": "completed"
    },
    "tags": []
   },
   "outputs": [
    {
     "data": {
      "text/plain": [
       "(7043, 21)"
      ]
     },
     "execution_count": 4,
     "metadata": {},
     "output_type": "execute_result"
    }
   ],
   "source": [
    "df.shape"
   ]
  },
  {
   "cell_type": "code",
   "execution_count": 5,
   "id": "dcb247e3",
   "metadata": {
    "papermill": {
     "duration": 0.077313,
     "end_time": "2021-12-21T16:49:40.453111",
     "exception": false,
     "start_time": "2021-12-21T16:49:40.375798",
     "status": "completed"
    },
    "tags": []
   },
   "outputs": [
    {
     "data": {
      "text/html": [
       "<div>\n",
       "<style scoped>\n",
       "    .dataframe tbody tr th:only-of-type {\n",
       "        vertical-align: middle;\n",
       "    }\n",
       "\n",
       "    .dataframe tbody tr th {\n",
       "        vertical-align: top;\n",
       "    }\n",
       "\n",
       "    .dataframe thead th {\n",
       "        text-align: right;\n",
       "    }\n",
       "</style>\n",
       "<table border=\"1\" class=\"dataframe\">\n",
       "  <thead>\n",
       "    <tr style=\"text-align: right;\">\n",
       "      <th></th>\n",
       "      <th>SeniorCitizen</th>\n",
       "      <th>tenure</th>\n",
       "      <th>MonthlyCharges</th>\n",
       "    </tr>\n",
       "  </thead>\n",
       "  <tbody>\n",
       "    <tr>\n",
       "      <th>count</th>\n",
       "      <td>7043.000000</td>\n",
       "      <td>7043.000000</td>\n",
       "      <td>7043.000000</td>\n",
       "    </tr>\n",
       "    <tr>\n",
       "      <th>mean</th>\n",
       "      <td>0.162147</td>\n",
       "      <td>32.371149</td>\n",
       "      <td>64.761692</td>\n",
       "    </tr>\n",
       "    <tr>\n",
       "      <th>std</th>\n",
       "      <td>0.368612</td>\n",
       "      <td>24.559481</td>\n",
       "      <td>30.090047</td>\n",
       "    </tr>\n",
       "    <tr>\n",
       "      <th>min</th>\n",
       "      <td>0.000000</td>\n",
       "      <td>0.000000</td>\n",
       "      <td>18.250000</td>\n",
       "    </tr>\n",
       "    <tr>\n",
       "      <th>25%</th>\n",
       "      <td>0.000000</td>\n",
       "      <td>9.000000</td>\n",
       "      <td>35.500000</td>\n",
       "    </tr>\n",
       "    <tr>\n",
       "      <th>50%</th>\n",
       "      <td>0.000000</td>\n",
       "      <td>29.000000</td>\n",
       "      <td>70.350000</td>\n",
       "    </tr>\n",
       "    <tr>\n",
       "      <th>75%</th>\n",
       "      <td>0.000000</td>\n",
       "      <td>55.000000</td>\n",
       "      <td>89.850000</td>\n",
       "    </tr>\n",
       "    <tr>\n",
       "      <th>max</th>\n",
       "      <td>1.000000</td>\n",
       "      <td>72.000000</td>\n",
       "      <td>118.750000</td>\n",
       "    </tr>\n",
       "  </tbody>\n",
       "</table>\n",
       "</div>"
      ],
      "text/plain": [
       "       SeniorCitizen       tenure  MonthlyCharges\n",
       "count    7043.000000  7043.000000     7043.000000\n",
       "mean        0.162147    32.371149       64.761692\n",
       "std         0.368612    24.559481       30.090047\n",
       "min         0.000000     0.000000       18.250000\n",
       "25%         0.000000     9.000000       35.500000\n",
       "50%         0.000000    29.000000       70.350000\n",
       "75%         0.000000    55.000000       89.850000\n",
       "max         1.000000    72.000000      118.750000"
      ]
     },
     "execution_count": 5,
     "metadata": {},
     "output_type": "execute_result"
    }
   ],
   "source": [
    "# Numeric Columns\n",
    "df.describe(include = [np.number])"
   ]
  },
  {
   "cell_type": "code",
   "execution_count": 6,
   "id": "7eb86f84",
   "metadata": {
    "papermill": {
     "duration": 0.127298,
     "end_time": "2021-12-21T16:49:40.625424",
     "exception": false,
     "start_time": "2021-12-21T16:49:40.498126",
     "status": "completed"
    },
    "tags": []
   },
   "outputs": [
    {
     "data": {
      "text/html": [
       "<div>\n",
       "<style scoped>\n",
       "    .dataframe tbody tr th:only-of-type {\n",
       "        vertical-align: middle;\n",
       "    }\n",
       "\n",
       "    .dataframe tbody tr th {\n",
       "        vertical-align: top;\n",
       "    }\n",
       "\n",
       "    .dataframe thead th {\n",
       "        text-align: right;\n",
       "    }\n",
       "</style>\n",
       "<table border=\"1\" class=\"dataframe\">\n",
       "  <thead>\n",
       "    <tr style=\"text-align: right;\">\n",
       "      <th></th>\n",
       "      <th>customerID</th>\n",
       "      <th>gender</th>\n",
       "      <th>Partner</th>\n",
       "      <th>Dependents</th>\n",
       "      <th>PhoneService</th>\n",
       "      <th>MultipleLines</th>\n",
       "      <th>InternetService</th>\n",
       "      <th>OnlineSecurity</th>\n",
       "      <th>OnlineBackup</th>\n",
       "      <th>DeviceProtection</th>\n",
       "      <th>TechSupport</th>\n",
       "      <th>StreamingTV</th>\n",
       "      <th>StreamingMovies</th>\n",
       "      <th>Contract</th>\n",
       "      <th>PaperlessBilling</th>\n",
       "      <th>PaymentMethod</th>\n",
       "      <th>TotalCharges</th>\n",
       "      <th>Churn</th>\n",
       "    </tr>\n",
       "  </thead>\n",
       "  <tbody>\n",
       "    <tr>\n",
       "      <th>count</th>\n",
       "      <td>7043</td>\n",
       "      <td>7043</td>\n",
       "      <td>7043</td>\n",
       "      <td>7043</td>\n",
       "      <td>7043</td>\n",
       "      <td>7043</td>\n",
       "      <td>7043</td>\n",
       "      <td>7043</td>\n",
       "      <td>7043</td>\n",
       "      <td>7043</td>\n",
       "      <td>7043</td>\n",
       "      <td>7043</td>\n",
       "      <td>7043</td>\n",
       "      <td>7043</td>\n",
       "      <td>7043</td>\n",
       "      <td>7043</td>\n",
       "      <td>7043</td>\n",
       "      <td>7043</td>\n",
       "    </tr>\n",
       "    <tr>\n",
       "      <th>unique</th>\n",
       "      <td>7043</td>\n",
       "      <td>2</td>\n",
       "      <td>2</td>\n",
       "      <td>2</td>\n",
       "      <td>2</td>\n",
       "      <td>3</td>\n",
       "      <td>3</td>\n",
       "      <td>3</td>\n",
       "      <td>3</td>\n",
       "      <td>3</td>\n",
       "      <td>3</td>\n",
       "      <td>3</td>\n",
       "      <td>3</td>\n",
       "      <td>3</td>\n",
       "      <td>2</td>\n",
       "      <td>4</td>\n",
       "      <td>6531</td>\n",
       "      <td>2</td>\n",
       "    </tr>\n",
       "    <tr>\n",
       "      <th>top</th>\n",
       "      <td>7590-VHVEG</td>\n",
       "      <td>Male</td>\n",
       "      <td>No</td>\n",
       "      <td>No</td>\n",
       "      <td>Yes</td>\n",
       "      <td>No</td>\n",
       "      <td>Fiber optic</td>\n",
       "      <td>No</td>\n",
       "      <td>No</td>\n",
       "      <td>No</td>\n",
       "      <td>No</td>\n",
       "      <td>No</td>\n",
       "      <td>No</td>\n",
       "      <td>Month-to-month</td>\n",
       "      <td>Yes</td>\n",
       "      <td>Electronic check</td>\n",
       "      <td></td>\n",
       "      <td>No</td>\n",
       "    </tr>\n",
       "    <tr>\n",
       "      <th>freq</th>\n",
       "      <td>1</td>\n",
       "      <td>3555</td>\n",
       "      <td>3641</td>\n",
       "      <td>4933</td>\n",
       "      <td>6361</td>\n",
       "      <td>3390</td>\n",
       "      <td>3096</td>\n",
       "      <td>3498</td>\n",
       "      <td>3088</td>\n",
       "      <td>3095</td>\n",
       "      <td>3473</td>\n",
       "      <td>2810</td>\n",
       "      <td>2785</td>\n",
       "      <td>3875</td>\n",
       "      <td>4171</td>\n",
       "      <td>2365</td>\n",
       "      <td>11</td>\n",
       "      <td>5174</td>\n",
       "    </tr>\n",
       "  </tbody>\n",
       "</table>\n",
       "</div>"
      ],
      "text/plain": [
       "        customerID gender Partner Dependents PhoneService MultipleLines  \\\n",
       "count         7043   7043    7043       7043         7043          7043   \n",
       "unique        7043      2       2          2            2             3   \n",
       "top     7590-VHVEG   Male      No         No          Yes            No   \n",
       "freq             1   3555    3641       4933         6361          3390   \n",
       "\n",
       "       InternetService OnlineSecurity OnlineBackup DeviceProtection  \\\n",
       "count             7043           7043         7043             7043   \n",
       "unique               3              3            3                3   \n",
       "top        Fiber optic             No           No               No   \n",
       "freq              3096           3498         3088             3095   \n",
       "\n",
       "       TechSupport StreamingTV StreamingMovies        Contract  \\\n",
       "count         7043        7043            7043            7043   \n",
       "unique           3           3               3               3   \n",
       "top             No          No              No  Month-to-month   \n",
       "freq          3473        2810            2785            3875   \n",
       "\n",
       "       PaperlessBilling     PaymentMethod TotalCharges Churn  \n",
       "count              7043              7043         7043  7043  \n",
       "unique                2                 4         6531     2  \n",
       "top                 Yes  Electronic check                 No  \n",
       "freq               4171              2365           11  5174  "
      ]
     },
     "execution_count": 6,
     "metadata": {},
     "output_type": "execute_result"
    }
   ],
   "source": [
    "# Object Columns\n",
    "df.describe(include = [np.object])"
   ]
  },
  {
   "cell_type": "code",
   "execution_count": 7,
   "id": "72682ebb",
   "metadata": {
    "papermill": {
     "duration": 0.07121,
     "end_time": "2021-12-21T16:49:40.742139",
     "exception": false,
     "start_time": "2021-12-21T16:49:40.670929",
     "status": "completed"
    },
    "tags": []
   },
   "outputs": [
    {
     "data": {
      "text/plain": [
       "customerID          0\n",
       "gender              0\n",
       "SeniorCitizen       0\n",
       "Partner             0\n",
       "Dependents          0\n",
       "tenure              0\n",
       "PhoneService        0\n",
       "MultipleLines       0\n",
       "InternetService     0\n",
       "OnlineSecurity      0\n",
       "OnlineBackup        0\n",
       "DeviceProtection    0\n",
       "TechSupport         0\n",
       "StreamingTV         0\n",
       "StreamingMovies     0\n",
       "Contract            0\n",
       "PaperlessBilling    0\n",
       "PaymentMethod       0\n",
       "MonthlyCharges      0\n",
       "TotalCharges        0\n",
       "Churn               0\n",
       "dtype: int64"
      ]
     },
     "execution_count": 7,
     "metadata": {},
     "output_type": "execute_result"
    }
   ],
   "source": [
    "# Checking for Null Values\n",
    "df.isnull().sum()"
   ]
  },
  {
   "cell_type": "markdown",
   "id": "1037d124",
   "metadata": {
    "papermill": {
     "duration": 0.045196,
     "end_time": "2021-12-21T16:49:40.832871",
     "exception": false,
     "start_time": "2021-12-21T16:49:40.787675",
     "status": "completed"
    },
    "tags": []
   },
   "source": [
    "# Data Cleaning & Preprocessing"
   ]
  },
  {
   "cell_type": "code",
   "execution_count": 8,
   "id": "c16e9cdc",
   "metadata": {
    "papermill": {
     "duration": 0.053898,
     "end_time": "2021-12-21T16:49:40.932583",
     "exception": false,
     "start_time": "2021-12-21T16:49:40.878685",
     "status": "completed"
    },
    "tags": []
   },
   "outputs": [],
   "source": [
    "# As there is Unique ID for each customer, hence no role would this column play in deciding output, hence dropping ID colummn"
   ]
  },
  {
   "cell_type": "code",
   "execution_count": 9,
   "id": "e036eb40",
   "metadata": {
    "papermill": {
     "duration": 0.055643,
     "end_time": "2021-12-21T16:49:41.035071",
     "exception": false,
     "start_time": "2021-12-21T16:49:40.979428",
     "status": "completed"
    },
    "tags": []
   },
   "outputs": [],
   "source": [
    "df.drop('customerID', axis = 1, inplace = True)"
   ]
  },
  {
   "cell_type": "code",
   "execution_count": 10,
   "id": "be41705d",
   "metadata": {
    "papermill": {
     "duration": 0.059963,
     "end_time": "2021-12-21T16:49:41.140952",
     "exception": false,
     "start_time": "2021-12-21T16:49:41.080989",
     "status": "completed"
    },
    "tags": []
   },
   "outputs": [],
   "source": [
    "# Total charge seems numeric in nature, but it is objective type, hence convert this into Numeric\n",
    "df['TotalCharges'] = pd.to_numeric(df['TotalCharges'], errors = 'coerce')"
   ]
  },
  {
   "cell_type": "markdown",
   "id": "ef0314ab",
   "metadata": {
    "papermill": {
     "duration": 0.046591,
     "end_time": "2021-12-21T16:49:41.234282",
     "exception": false,
     "start_time": "2021-12-21T16:49:41.187691",
     "status": "completed"
    },
    "tags": []
   },
   "source": [
    "Above syntax will convert object into numeric, and places where other then numeric value present, \n",
    "it will replace that value with Nan"
   ]
  },
  {
   "cell_type": "code",
   "execution_count": 11,
   "id": "e752769a",
   "metadata": {
    "papermill": {
     "duration": 0.057366,
     "end_time": "2021-12-21T16:49:41.338017",
     "exception": false,
     "start_time": "2021-12-21T16:49:41.280651",
     "status": "completed"
    },
    "tags": []
   },
   "outputs": [
    {
     "name": "stdout",
     "output_type": "stream",
     "text": [
      "Total Null Values: 11\n",
      "% of Missing values: 0.15618344455487718\n"
     ]
    }
   ],
   "source": [
    "# To find number of Null in TotalCharges Column\n",
    "print(\"Total Null Values: {}\".format(df['TotalCharges'].isnull().sum()))\n",
    "print(\"% of Missing values: {}\".format(df['TotalCharges'].isnull().sum() * 100 / df.shape[0]))"
   ]
  },
  {
   "cell_type": "markdown",
   "id": "0562057b",
   "metadata": {
    "papermill": {
     "duration": 0.046217,
     "end_time": "2021-12-21T16:49:41.430594",
     "exception": false,
     "start_time": "2021-12-21T16:49:41.384377",
     "status": "completed"
    },
    "tags": []
   },
   "source": [
    "As % is too small (Less than 10%) hence dropping them makes sense"
   ]
  },
  {
   "cell_type": "code",
   "execution_count": 12,
   "id": "e1bcdaf4",
   "metadata": {
    "papermill": {
     "duration": 0.069684,
     "end_time": "2021-12-21T16:49:41.546591",
     "exception": false,
     "start_time": "2021-12-21T16:49:41.476907",
     "status": "completed"
    },
    "tags": []
   },
   "outputs": [],
   "source": [
    "df.dropna(how = 'any', inplace = True)"
   ]
  },
  {
   "cell_type": "code",
   "execution_count": 13,
   "id": "b539aad2",
   "metadata": {
    "papermill": {
     "duration": 0.054015,
     "end_time": "2021-12-21T16:49:41.647229",
     "exception": false,
     "start_time": "2021-12-21T16:49:41.593214",
     "status": "completed"
    },
    "tags": []
   },
   "outputs": [
    {
     "data": {
      "text/plain": [
       "(7032, 20)"
      ]
     },
     "execution_count": 13,
     "metadata": {},
     "output_type": "execute_result"
    }
   ],
   "source": [
    "# Checking data again\n",
    "\n",
    "df.shape"
   ]
  },
  {
   "cell_type": "code",
   "execution_count": 14,
   "id": "46af5db7",
   "metadata": {
    "papermill": {
     "duration": 0.055659,
     "end_time": "2021-12-21T16:49:41.750194",
     "exception": false,
     "start_time": "2021-12-21T16:49:41.694535",
     "status": "completed"
    },
    "tags": []
   },
   "outputs": [],
   "source": [
    "# Identify Objective variables and find its relation with Output\n",
    "object = [feature for feature in df.columns if df[feature].dtypes == \"O\"]"
   ]
  },
  {
   "cell_type": "code",
   "execution_count": 15,
   "id": "3cf1004c",
   "metadata": {
    "papermill": {
     "duration": 0.056866,
     "end_time": "2021-12-21T16:49:41.853708",
     "exception": false,
     "start_time": "2021-12-21T16:49:41.796842",
     "status": "completed"
    },
    "tags": []
   },
   "outputs": [
    {
     "data": {
      "text/plain": [
       "No     5163\n",
       "Yes    1869\n",
       "Name: Churn, dtype: int64"
      ]
     },
     "execution_count": 15,
     "metadata": {},
     "output_type": "execute_result"
    }
   ],
   "source": [
    "# Identify distribution of Output\n",
    "df['Churn'].value_counts()"
   ]
  },
  {
   "cell_type": "markdown",
   "id": "1e132db2",
   "metadata": {
    "papermill": {
     "duration": 0.04757,
     "end_time": "2021-12-21T16:49:41.949733",
     "exception": false,
     "start_time": "2021-12-21T16:49:41.902163",
     "status": "completed"
    },
    "tags": []
   },
   "source": [
    "It is Imbalanced dataset, we will handle this during model Building stage"
   ]
  },
  {
   "cell_type": "code",
   "execution_count": 16,
   "id": "5cf6ab16",
   "metadata": {
    "papermill": {
     "duration": 0.279265,
     "end_time": "2021-12-21T16:49:42.276487",
     "exception": false,
     "start_time": "2021-12-21T16:49:41.997222",
     "status": "completed"
    },
    "tags": []
   },
   "outputs": [
    {
     "name": "stdout",
     "output_type": "stream",
     "text": [
      "gender\n",
      "Male      3549\n",
      "Female    3483\n",
      "Name: gender, dtype: int64\n",
      "Churn     No  Yes\n",
      "gender           \n",
      "Female  2544  939\n",
      "Male    2619  930\n",
      "Partner\n",
      "No     3639\n",
      "Yes    3393\n",
      "Name: Partner, dtype: int64\n",
      "Churn      No   Yes\n",
      "Partner            \n",
      "No       2439  1200\n",
      "Yes      2724   669\n",
      "Dependents\n",
      "No     4933\n",
      "Yes    2099\n",
      "Name: Dependents, dtype: int64\n",
      "Churn         No   Yes\n",
      "Dependents            \n",
      "No          3390  1543\n",
      "Yes         1773   326\n",
      "PhoneService\n",
      "Yes    6352\n",
      "No      680\n",
      "Name: PhoneService, dtype: int64\n",
      "Churn           No   Yes\n",
      "PhoneService            \n",
      "No             510   170\n",
      "Yes           4653  1699\n",
      "MultipleLines\n",
      "No                  3385\n",
      "Yes                 2967\n",
      "No phone service     680\n",
      "Name: MultipleLines, dtype: int64\n",
      "Churn               No  Yes\n",
      "MultipleLines              \n",
      "No                2536  849\n",
      "No phone service   510  170\n",
      "Yes               2117  850\n",
      "InternetService\n",
      "Fiber optic    3096\n",
      "DSL            2416\n",
      "No             1520\n",
      "Name: InternetService, dtype: int64\n",
      "Churn              No   Yes\n",
      "InternetService            \n",
      "DSL              1957   459\n",
      "Fiber optic      1799  1297\n",
      "No               1407   113\n",
      "OnlineSecurity\n",
      "No                     3497\n",
      "Yes                    2015\n",
      "No internet service    1520\n",
      "Name: OnlineSecurity, dtype: int64\n",
      "Churn                  No   Yes\n",
      "OnlineSecurity                 \n",
      "No                   2036  1461\n",
      "No internet service  1407   113\n",
      "Yes                  1720   295\n",
      "OnlineBackup\n",
      "No                     3087\n",
      "Yes                    2425\n",
      "No internet service    1520\n",
      "Name: OnlineBackup, dtype: int64\n",
      "Churn                  No   Yes\n",
      "OnlineBackup                   \n",
      "No                   1854  1233\n",
      "No internet service  1407   113\n",
      "Yes                  1902   523\n",
      "DeviceProtection\n",
      "No                     3094\n",
      "Yes                    2418\n",
      "No internet service    1520\n",
      "Name: DeviceProtection, dtype: int64\n",
      "Churn                  No   Yes\n",
      "DeviceProtection               \n",
      "No                   1883  1211\n",
      "No internet service  1407   113\n",
      "Yes                  1873   545\n",
      "TechSupport\n",
      "No                     3472\n",
      "Yes                    2040\n",
      "No internet service    1520\n",
      "Name: TechSupport, dtype: int64\n",
      "Churn                  No   Yes\n",
      "TechSupport                    \n",
      "No                   2026  1446\n",
      "No internet service  1407   113\n",
      "Yes                  1730   310\n",
      "StreamingTV\n",
      "No                     2809\n",
      "Yes                    2703\n",
      "No internet service    1520\n",
      "Name: StreamingTV, dtype: int64\n",
      "Churn                  No  Yes\n",
      "StreamingTV                   \n",
      "No                   1867  942\n",
      "No internet service  1407  113\n",
      "Yes                  1889  814\n",
      "StreamingMovies\n",
      "No                     2781\n",
      "Yes                    2731\n",
      "No internet service    1520\n",
      "Name: StreamingMovies, dtype: int64\n",
      "Churn                  No  Yes\n",
      "StreamingMovies               \n",
      "No                   1843  938\n",
      "No internet service  1407  113\n",
      "Yes                  1913  818\n",
      "Contract\n",
      "Month-to-month    3875\n",
      "Two year          1685\n",
      "One year          1472\n",
      "Name: Contract, dtype: int64\n",
      "Churn             No   Yes\n",
      "Contract                  \n",
      "Month-to-month  2220  1655\n",
      "One year        1306   166\n",
      "Two year        1637    48\n",
      "PaperlessBilling\n",
      "Yes    4168\n",
      "No     2864\n",
      "Name: PaperlessBilling, dtype: int64\n",
      "Churn               No   Yes\n",
      "PaperlessBilling            \n",
      "No                2395   469\n",
      "Yes               2768  1400\n",
      "PaymentMethod\n",
      "Electronic check             2365\n",
      "Mailed check                 1604\n",
      "Bank transfer (automatic)    1542\n",
      "Credit card (automatic)      1521\n",
      "Name: PaymentMethod, dtype: int64\n",
      "Churn                        No   Yes\n",
      "PaymentMethod                        \n",
      "Bank transfer (automatic)  1284   258\n",
      "Credit card (automatic)    1289   232\n",
      "Electronic check           1294  1071\n",
      "Mailed check               1296   308\n",
      "Churn\n",
      "No     5163\n",
      "Yes    1869\n",
      "Name: Churn, dtype: int64\n",
      "Churn    No   Yes\n",
      "Churn            \n",
      "No     5163     0\n",
      "Yes       0  1869\n"
     ]
    }
   ],
   "source": [
    "for value in object:\n",
    "    print(value)\n",
    "    print(df[value].value_counts())\n",
    "    print(pd.crosstab(df[value], df['Churn']))"
   ]
  },
  {
   "cell_type": "markdown",
   "id": "eb33e1a1",
   "metadata": {
    "papermill": {
     "duration": 0.047028,
     "end_time": "2021-12-21T16:49:42.372040",
     "exception": false,
     "start_time": "2021-12-21T16:49:42.325012",
     "status": "completed"
    },
    "tags": []
   },
   "source": [
    "Columns like MultipleLines has three class, No , Yes and 'No Phone Service'. We need to convert \"No Phone Service\" into No class. We Will use where function from Numpy"
   ]
  },
  {
   "cell_type": "code",
   "execution_count": 17,
   "id": "d7dde629",
   "metadata": {
    "papermill": {
     "duration": 0.078983,
     "end_time": "2021-12-21T16:49:42.498597",
     "exception": false,
     "start_time": "2021-12-21T16:49:42.419614",
     "status": "completed"
    },
    "tags": []
   },
   "outputs": [],
   "source": [
    "df['MultipleLines'] = np.where(df['MultipleLines'] != \"Yes\", \"No\", \"Yes\")\n",
    "df['OnlineSecurity'] = np.where(df['OnlineSecurity'] != \"Yes\", \"No\", \"Yes\")\n",
    "df['OnlineBackup'] = np.where(df['OnlineBackup'] != \"Yes\", \"No\", \"Yes\")\n",
    "df['DeviceProtection'] = np.where(df['DeviceProtection'] != \"Yes\", \"No\", \"Yes\")\n",
    "df['TechSupport'] = np.where(df['TechSupport'] != \"Yes\", \"No\", \"Yes\")\n",
    "df['StreamingTV'] = np.where(df['StreamingTV'] != \"Yes\", \"No\", \"Yes\")\n",
    "df['StreamingMovies'] = np.where(df['StreamingMovies'] != \"Yes\", \"No\", \"Yes\")"
   ]
  },
  {
   "cell_type": "code",
   "execution_count": 18,
   "id": "e6351a1e",
   "metadata": {
    "papermill": {
     "duration": 0.059039,
     "end_time": "2021-12-21T16:49:42.605455",
     "exception": false,
     "start_time": "2021-12-21T16:49:42.546416",
     "status": "completed"
    },
    "tags": []
   },
   "outputs": [
    {
     "data": {
      "text/plain": [
       "No     4065\n",
       "Yes    2967\n",
       "Name: MultipleLines, dtype: int64"
      ]
     },
     "execution_count": 18,
     "metadata": {},
     "output_type": "execute_result"
    }
   ],
   "source": [
    "#verifying above syntax\n",
    "df['MultipleLines'].value_counts()"
   ]
  },
  {
   "cell_type": "code",
   "execution_count": 19,
   "id": "f8c72c40",
   "metadata": {
    "papermill": {
     "duration": 0.240217,
     "end_time": "2021-12-21T16:49:42.893805",
     "exception": false,
     "start_time": "2021-12-21T16:49:42.653588",
     "status": "completed"
    },
    "tags": []
   },
   "outputs": [],
   "source": [
    "# Using Label Encoder, we will convert all above object into numeric\n",
    "\n",
    "from sklearn.preprocessing import LabelEncoder\n",
    "\n",
    "lb = LabelEncoder()\n",
    "for value in object:\n",
    "    df[value] = lb.fit_transform(df[value])"
   ]
  },
  {
   "cell_type": "code",
   "execution_count": 20,
   "id": "d15db8ff",
   "metadata": {
    "papermill": {
     "duration": 0.057524,
     "end_time": "2021-12-21T16:49:43.000040",
     "exception": false,
     "start_time": "2021-12-21T16:49:42.942516",
     "status": "completed"
    },
    "tags": []
   },
   "outputs": [],
   "source": [
    "# Separating Dependent and Independent variables\n",
    "\n",
    "x = df.iloc[:,:-1]\n",
    "y = df.iloc[:,-1]"
   ]
  },
  {
   "cell_type": "code",
   "execution_count": 21,
   "id": "157a9d6f",
   "metadata": {
    "papermill": {
     "duration": 0.070581,
     "end_time": "2021-12-21T16:49:43.119199",
     "exception": false,
     "start_time": "2021-12-21T16:49:43.048618",
     "status": "completed"
    },
    "tags": []
   },
   "outputs": [],
   "source": [
    "# Using standard scaler, lets convert each numeric variable into similar numeric range\n",
    "from sklearn.preprocessing import StandardScaler\n",
    "sc = StandardScaler()\n",
    "x = sc.fit_transform(x)\n",
    "\n",
    "x = pd.DataFrame(x)"
   ]
  },
  {
   "cell_type": "code",
   "execution_count": 22,
   "id": "cc54f563",
   "metadata": {
    "papermill": {
     "duration": 0.121159,
     "end_time": "2021-12-21T16:49:43.288585",
     "exception": false,
     "start_time": "2021-12-21T16:49:43.167426",
     "status": "completed"
    },
    "tags": []
   },
   "outputs": [],
   "source": [
    "# Split data into Train test \n",
    "\n",
    "from sklearn.model_selection import train_test_split\n",
    "xtrain, xtest, ytrain, ytest = train_test_split(x, y, stratify = y, test_size = 0.2, random_state = 0)"
   ]
  },
  {
   "cell_type": "code",
   "execution_count": 23,
   "id": "3f3a8a9a",
   "metadata": {
    "papermill": {
     "duration": 0.055844,
     "end_time": "2021-12-21T16:49:43.393466",
     "exception": false,
     "start_time": "2021-12-21T16:49:43.337622",
     "status": "completed"
    },
    "tags": []
   },
   "outputs": [],
   "source": [
    "# We will use StratifiedCV to verify output,\n",
    "# This will iterate each model 5 times, to generate output accuracy"
   ]
  },
  {
   "cell_type": "code",
   "execution_count": 24,
   "id": "361d87bb",
   "metadata": {
    "papermill": {
     "duration": 0.058767,
     "end_time": "2021-12-21T16:49:43.500609",
     "exception": false,
     "start_time": "2021-12-21T16:49:43.441842",
     "status": "completed"
    },
    "tags": []
   },
   "outputs": [],
   "source": [
    "from sklearn.model_selection import StratifiedKFold\n",
    "\n",
    "# Lets define a function to carryout StratifiedCV\n",
    "\n",
    "def skfold_cv(x, y, algo, param, n_jobs = -1):\n",
    "    skf = StratifiedKFold(n_splits = 5, shuffle = True, random_state = 0)\n",
    "    \n",
    "    for i, j in skf.split(x, y):\n",
    "        xtrain, xtest = x.iloc[i, :], x.iloc[j, :]\n",
    "        ytrain, ytest = y.iloc[i], y.iloc[j]\n",
    "        \n",
    "        model = algo(**param)\n",
    "        model.fit(xtrain, ytrain)\n",
    "        ypred = model.predict(xtest)\n",
    "        print(accuracy_score(ytest, ypred))\n",
    "        print(confusion_matrix(ytest, ypred))"
   ]
  },
  {
   "cell_type": "code",
   "execution_count": 25,
   "id": "85555922",
   "metadata": {
    "papermill": {
     "duration": 0.255212,
     "end_time": "2021-12-21T16:49:43.804408",
     "exception": false,
     "start_time": "2021-12-21T16:49:43.549196",
     "status": "completed"
    },
    "tags": []
   },
   "outputs": [],
   "source": [
    "# Lets call LogisticRegression and RandomForestClassifier to carryout classification\n",
    "\n",
    "from sklearn.linear_model import LogisticRegression\n",
    "from sklearn.ensemble import RandomForestClassifier\n",
    "from sklearn.metrics import accuracy_score, confusion_matrix, classification_report"
   ]
  },
  {
   "cell_type": "code",
   "execution_count": 26,
   "id": "589db949",
   "metadata": {
    "papermill": {
     "duration": 0.304647,
     "end_time": "2021-12-21T16:49:44.157210",
     "exception": false,
     "start_time": "2021-12-21T16:49:43.852563",
     "status": "completed"
    },
    "tags": []
   },
   "outputs": [
    {
     "name": "stdout",
     "output_type": "stream",
     "text": [
      "0.8002842928216063\n",
      "[[914 119]\n",
      " [162 212]]\n",
      "0.8116560056858564\n",
      "[[935  98]\n",
      " [167 207]]\n",
      "0.798719772403983\n",
      "[[926 107]\n",
      " [176 197]]\n",
      "0.7887624466571835\n",
      "[[903 129]\n",
      " [168 206]]\n",
      "0.8044096728307255\n",
      "[[928 104]\n",
      " [171 203]]\n"
     ]
    }
   ],
   "source": [
    "# Lets train basic model without any hyper parameter tuning\n",
    "\n",
    "log_param = {}\n",
    "logit_model = skfold_cv(x, y, LogisticRegression, log_param)"
   ]
  },
  {
   "cell_type": "code",
   "execution_count": 27,
   "id": "69e1cc16",
   "metadata": {
    "papermill": {
     "duration": 0.063963,
     "end_time": "2021-12-21T16:49:44.311703",
     "exception": false,
     "start_time": "2021-12-21T16:49:44.247740",
     "status": "completed"
    },
    "tags": []
   },
   "outputs": [],
   "source": [
    "#Now lets call RandomizedGridCV to carryout hyperparameter tuning\n",
    "\n",
    "from sklearn.model_selection import RandomizedSearchCV"
   ]
  },
  {
   "cell_type": "code",
   "execution_count": 28,
   "id": "0991efc9",
   "metadata": {
    "papermill": {
     "duration": 4.241773,
     "end_time": "2021-12-21T16:49:48.601745",
     "exception": false,
     "start_time": "2021-12-21T16:49:44.359972",
     "status": "completed"
    },
    "tags": []
   },
   "outputs": [
    {
     "name": "stdout",
     "output_type": "stream",
     "text": [
      "Fitting 5 folds for each of 10 candidates, totalling 50 fits\n",
      "Best score: 0.8019062379627974\n",
      "Best parameters set:\n",
      "\tC: 1\n",
      "\tpenalty: l2\n"
     ]
    }
   ],
   "source": [
    "param_grid = {'penalty' : ['l1', 'l2'],\n",
    "             'C' : [0.001, 0.01, 0.1, 1, 10]}\n",
    "\n",
    "log_clf = LogisticRegression(n_jobs = -1, random_state = 0)\n",
    "\n",
    "model = RandomizedSearchCV(estimator = log_clf, \n",
    "                          param_distributions = param_grid,\n",
    "                          scoring = 'accuracy', \n",
    "                          verbose = 10,\n",
    "                          n_jobs = -1,\n",
    "                          cv = StratifiedKFold(5, shuffle = True))\n",
    "\n",
    "model.fit(x, y)\n",
    "\n",
    "print(f'Best score: {model.best_score_}')\n",
    "print('Best parameters set:')\n",
    "\n",
    "best_parameters = model.best_estimator_.get_params()\n",
    "for param_name in sorted(param_grid.keys()):\n",
    "    print(f'\\t{param_name}: {best_parameters[param_name]}')"
   ]
  },
  {
   "cell_type": "markdown",
   "id": "bb7de16d",
   "metadata": {
    "papermill": {
     "duration": 0.050925,
     "end_time": "2021-12-21T16:49:48.704633",
     "exception": false,
     "start_time": "2021-12-21T16:49:48.653708",
     "status": "completed"
    },
    "tags": []
   },
   "source": [
    "We have best parameters from above combination of  paramaters,\n",
    "\n",
    "Best parameters set:\n",
    "\n",
    "C: 0.1\n",
    "    \n",
    "penalty: l2"
   ]
  },
  {
   "cell_type": "code",
   "execution_count": 29,
   "id": "385cda8e",
   "metadata": {
    "papermill": {
     "duration": 0.276811,
     "end_time": "2021-12-21T16:49:49.032337",
     "exception": false,
     "start_time": "2021-12-21T16:49:48.755526",
     "status": "completed"
    },
    "tags": []
   },
   "outputs": [
    {
     "name": "stdout",
     "output_type": "stream",
     "text": [
      "0.8024164889836531\n",
      "[[921 112]\n",
      " [166 208]]\n",
      "0.8137882018479033\n",
      "[[937  96]\n",
      " [166 208]]\n",
      "0.7994310099573257\n",
      "[[930 103]\n",
      " [179 194]]\n",
      "0.7908961593172119\n",
      "[[908 124]\n",
      " [170 204]]\n",
      "0.8065433854907539\n",
      "[[934  98]\n",
      " [174 200]]\n"
     ]
    }
   ],
   "source": [
    "# Using above parameter lets train model and find accuracy\n",
    "\n",
    "log_param = {'penalty':'l2', 'C' : 0.1}\n",
    "logit_model = skfold_cv(x, y, LogisticRegression, log_param)"
   ]
  },
  {
   "cell_type": "markdown",
   "id": "b683fbcc",
   "metadata": {
    "papermill": {
     "duration": 0.056956,
     "end_time": "2021-12-21T16:49:49.185226",
     "exception": false,
     "start_time": "2021-12-21T16:49:49.128270",
     "status": "completed"
    },
    "tags": []
   },
   "source": [
    "No Major change in accuracy, may be imbalanced data is culprit\n",
    "\n",
    "\n",
    "Lets now use Randomforest classifier to classify data"
   ]
  },
  {
   "cell_type": "code",
   "execution_count": 30,
   "id": "8f598e7f",
   "metadata": {
    "papermill": {
     "duration": 3.797013,
     "end_time": "2021-12-21T16:49:53.033304",
     "exception": false,
     "start_time": "2021-12-21T16:49:49.236291",
     "status": "completed"
    },
    "tags": []
   },
   "outputs": [
    {
     "name": "stdout",
     "output_type": "stream",
     "text": [
      "0.7938877043354655\n",
      "[[932 101]\n",
      " [189 185]]\n",
      "0.8009950248756219\n",
      "[[924 109]\n",
      " [171 203]]\n",
      "0.8029871977240398\n",
      "[[946  87]\n",
      " [190 183]]\n",
      "0.783072546230441\n",
      "[[923 109]\n",
      " [196 178]]\n",
      "0.7880512091038406\n",
      "[[938  94]\n",
      " [204 170]]\n"
     ]
    }
   ],
   "source": [
    "rf_param = {}\n",
    "rf_model = skfold_cv(x, y, RandomForestClassifier, rf_param)"
   ]
  },
  {
   "cell_type": "code",
   "execution_count": 31,
   "id": "f0b2cace",
   "metadata": {
    "papermill": {
     "duration": 60.299836,
     "end_time": "2021-12-21T16:50:53.386847",
     "exception": false,
     "start_time": "2021-12-21T16:49:53.087011",
     "status": "completed"
    },
    "tags": []
   },
   "outputs": [
    {
     "name": "stdout",
     "output_type": "stream",
     "text": [
      "Fitting 5 folds for each of 10 candidates, totalling 50 fits\n",
      "[CV 1/5; 1/10] START criterion=entropy, max_depth=7, max_features=log2, min_samples_leaf=2, min_samples_split=20, n_estimators=200\n",
      "[CV 1/5; 1/10] END criterion=entropy, max_depth=7, max_features=log2, min_samples_leaf=2, min_samples_split=20, n_estimators=200;, score=-0.411 total time=   0.5s\n",
      "[CV 2/5; 1/10] START criterion=entropy, max_depth=7, max_features=log2, min_samples_leaf=2, min_samples_split=20, n_estimators=200\n",
      "[CV 2/5; 1/10] END criterion=entropy, max_depth=7, max_features=log2, min_samples_leaf=2, min_samples_split=20, n_estimators=200;, score=-0.428 total time=   0.3s\n",
      "[CV 3/5; 1/10] START criterion=entropy, max_depth=7, max_features=log2, min_samples_leaf=2, min_samples_split=20, n_estimators=200\n",
      "[CV 3/5; 1/10] END criterion=entropy, max_depth=7, max_features=log2, min_samples_leaf=2, min_samples_split=20, n_estimators=200;, score=-0.387 total time=   0.3s\n",
      "[CV 4/5; 1/10] START criterion=entropy, max_depth=7, max_features=log2, min_samples_leaf=2, min_samples_split=20, n_estimators=200\n",
      "[CV 4/5; 1/10] END criterion=entropy, max_depth=7, max_features=log2, min_samples_leaf=2, min_samples_split=20, n_estimators=200;, score=-0.438 total time=   0.3s\n",
      "[CV 5/5; 1/10] START criterion=entropy, max_depth=7, max_features=log2, min_samples_leaf=2, min_samples_split=20, n_estimators=200\n",
      "[CV 5/5; 1/10] END criterion=entropy, max_depth=7, max_features=log2, min_samples_leaf=2, min_samples_split=20, n_estimators=200;, score=-0.423 total time=   0.3s\n",
      "[CV 1/5; 2/10] START criterion=gini, max_depth=2, max_features=sqrt, min_samples_leaf=2, min_samples_split=100, n_estimators=200\n",
      "[CV 1/5; 2/10] END criterion=gini, max_depth=2, max_features=sqrt, min_samples_leaf=2, min_samples_split=100, n_estimators=200;, score=-0.474 total time=   0.2s\n",
      "[CV 2/5; 2/10] START criterion=gini, max_depth=2, max_features=sqrt, min_samples_leaf=2, min_samples_split=100, n_estimators=200\n",
      "[CV 2/5; 2/10] END criterion=gini, max_depth=2, max_features=sqrt, min_samples_leaf=2, min_samples_split=100, n_estimators=200;, score=-0.476 total time=   0.2s\n",
      "[CV 3/5; 2/10] START criterion=gini, max_depth=2, max_features=sqrt, min_samples_leaf=2, min_samples_split=100, n_estimators=200\n",
      "[CV 3/5; 2/10] END criterion=gini, max_depth=2, max_features=sqrt, min_samples_leaf=2, min_samples_split=100, n_estimators=200;, score=-0.456 total time=   0.2s\n",
      "[CV 4/5; 2/10] START criterion=gini, max_depth=2, max_features=sqrt, min_samples_leaf=2, min_samples_split=100, n_estimators=200\n",
      "[CV 4/5; 2/10] END criterion=gini, max_depth=2, max_features=sqrt, min_samples_leaf=2, min_samples_split=100, n_estimators=200;, score=-0.480 total time=   0.2s\n",
      "[CV 5/5; 2/10] START criterion=gini, max_depth=2, max_features=sqrt, min_samples_leaf=2, min_samples_split=100, n_estimators=200\n",
      "[CV 5/5; 2/10] END criterion=gini, max_depth=2, max_features=sqrt, min_samples_leaf=2, min_samples_split=100, n_estimators=200;, score=-0.477 total time=   0.2s\n",
      "[CV 1/5; 3/10] START criterion=gini, max_depth=7, max_features=None, min_samples_leaf=5, min_samples_split=10, n_estimators=300\n",
      "[CV 1/5; 3/10] END criterion=gini, max_depth=7, max_features=None, min_samples_leaf=5, min_samples_split=10, n_estimators=300;, score=nan total time=   0.2s\n",
      "[CV 2/5; 3/10] START criterion=gini, max_depth=7, max_features=None, min_samples_leaf=5, min_samples_split=10, n_estimators=300\n",
      "[CV 2/5; 3/10] END criterion=gini, max_depth=7, max_features=None, min_samples_leaf=5, min_samples_split=10, n_estimators=300;, score=nan total time=   2.1s\n",
      "[CV 3/5; 3/10] START criterion=gini, max_depth=7, max_features=None, min_samples_leaf=5, min_samples_split=10, n_estimators=300\n",
      "[CV 3/5; 3/10] END criterion=gini, max_depth=7, max_features=None, min_samples_leaf=5, min_samples_split=10, n_estimators=300;, score=nan total time=   2.5s\n",
      "[CV 4/5; 3/10] START criterion=gini, max_depth=7, max_features=None, min_samples_leaf=5, min_samples_split=10, n_estimators=300\n",
      "[CV 4/5; 3/10] END criterion=gini, max_depth=7, max_features=None, min_samples_leaf=5, min_samples_split=10, n_estimators=300;, score=nan total time=   2.3s\n",
      "[CV 5/5; 3/10] START criterion=gini, max_depth=7, max_features=None, min_samples_leaf=5, min_samples_split=10, n_estimators=300\n",
      "[CV 5/5; 3/10] END criterion=gini, max_depth=7, max_features=None, min_samples_leaf=5, min_samples_split=10, n_estimators=300;, score=nan total time=   2.4s\n",
      "[CV 1/5; 4/10] START criterion=gini, max_depth=7, max_features=None, min_samples_leaf=10, min_samples_split=10, n_estimators=300\n",
      "[CV 1/5; 4/10] END criterion=gini, max_depth=7, max_features=None, min_samples_leaf=10, min_samples_split=10, n_estimators=300;, score=nan total time=   2.5s\n",
      "[CV 2/5; 4/10] START criterion=gini, max_depth=7, max_features=None, min_samples_leaf=10, min_samples_split=10, n_estimators=300\n",
      "[CV 2/5; 4/10] END criterion=gini, max_depth=7, max_features=None, min_samples_leaf=10, min_samples_split=10, n_estimators=300;, score=nan total time=   2.4s\n",
      "[CV 3/5; 4/10] START criterion=gini, max_depth=7, max_features=None, min_samples_leaf=10, min_samples_split=10, n_estimators=300\n",
      "[CV 3/5; 4/10] END criterion=gini, max_depth=7, max_features=None, min_samples_leaf=10, min_samples_split=10, n_estimators=300;, score=nan total time=   2.3s\n",
      "[CV 4/5; 4/10] START criterion=gini, max_depth=7, max_features=None, min_samples_leaf=10, min_samples_split=10, n_estimators=300\n",
      "[CV 4/5; 4/10] END criterion=gini, max_depth=7, max_features=None, min_samples_leaf=10, min_samples_split=10, n_estimators=300;, score=nan total time=   2.5s\n",
      "[CV 5/5; 4/10] START criterion=gini, max_depth=7, max_features=None, min_samples_leaf=10, min_samples_split=10, n_estimators=300\n",
      "[CV 5/5; 4/10] END criterion=gini, max_depth=7, max_features=None, min_samples_leaf=10, min_samples_split=10, n_estimators=300;, score=nan total time=   2.8s\n",
      "[CV 1/5; 5/10] START criterion=entropy, max_depth=7, max_features=None, min_samples_leaf=5, min_samples_split=10, n_estimators=300\n",
      "[CV 1/5; 5/10] END criterion=entropy, max_depth=7, max_features=None, min_samples_leaf=5, min_samples_split=10, n_estimators=300;, score=nan total time=   2.5s\n",
      "[CV 2/5; 5/10] START criterion=entropy, max_depth=7, max_features=None, min_samples_leaf=5, min_samples_split=10, n_estimators=300\n",
      "[CV 2/5; 5/10] END criterion=entropy, max_depth=7, max_features=None, min_samples_leaf=5, min_samples_split=10, n_estimators=300;, score=nan total time=   3.0s\n",
      "[CV 3/5; 5/10] START criterion=entropy, max_depth=7, max_features=None, min_samples_leaf=5, min_samples_split=10, n_estimators=300\n",
      "[CV 3/5; 5/10] END criterion=entropy, max_depth=7, max_features=None, min_samples_leaf=5, min_samples_split=10, n_estimators=300;, score=nan total time=   2.5s\n",
      "[CV 4/5; 5/10] START criterion=entropy, max_depth=7, max_features=None, min_samples_leaf=5, min_samples_split=10, n_estimators=300\n",
      "[CV 4/5; 5/10] END criterion=entropy, max_depth=7, max_features=None, min_samples_leaf=5, min_samples_split=10, n_estimators=300;, score=nan total time=   3.1s\n",
      "[CV 5/5; 5/10] START criterion=entropy, max_depth=7, max_features=None, min_samples_leaf=5, min_samples_split=10, n_estimators=300\n",
      "[CV 5/5; 5/10] END criterion=entropy, max_depth=7, max_features=None, min_samples_leaf=5, min_samples_split=10, n_estimators=300;, score=nan total time=   3.2s\n",
      "[CV 1/5; 6/10] START criterion=entropy, max_depth=15, max_features=None, min_samples_leaf=10, min_samples_split=10, n_estimators=200\n",
      "[CV 1/5; 6/10] END criterion=entropy, max_depth=15, max_features=None, min_samples_leaf=10, min_samples_split=10, n_estimators=200;, score=nan total time=   2.6s\n",
      "[CV 2/5; 6/10] START criterion=entropy, max_depth=15, max_features=None, min_samples_leaf=10, min_samples_split=10, n_estimators=200\n",
      "[CV 2/5; 6/10] END criterion=entropy, max_depth=15, max_features=None, min_samples_leaf=10, min_samples_split=10, n_estimators=200;, score=nan total time=   2.5s\n",
      "[CV 3/5; 6/10] START criterion=entropy, max_depth=15, max_features=None, min_samples_leaf=10, min_samples_split=10, n_estimators=200\n",
      "[CV 3/5; 6/10] END criterion=entropy, max_depth=15, max_features=None, min_samples_leaf=10, min_samples_split=10, n_estimators=200;, score=nan total time=   2.2s\n",
      "[CV 4/5; 6/10] START criterion=entropy, max_depth=15, max_features=None, min_samples_leaf=10, min_samples_split=10, n_estimators=200\n",
      "[CV 4/5; 6/10] END criterion=entropy, max_depth=15, max_features=None, min_samples_leaf=10, min_samples_split=10, n_estimators=200;, score=nan total time=   2.4s\n",
      "[CV 5/5; 6/10] START criterion=entropy, max_depth=15, max_features=None, min_samples_leaf=10, min_samples_split=10, n_estimators=200\n",
      "[CV 5/5; 6/10] END criterion=entropy, max_depth=15, max_features=None, min_samples_leaf=10, min_samples_split=10, n_estimators=200;, score=nan total time=   2.5s\n",
      "[CV 1/5; 7/10] START criterion=gini, max_depth=2, max_features=None, min_samples_leaf=5, min_samples_split=20, n_estimators=100\n",
      "[CV 1/5; 7/10] END criterion=gini, max_depth=2, max_features=None, min_samples_leaf=5, min_samples_split=20, n_estimators=100;, score=nan total time=   3.2s\n",
      "[CV 2/5; 7/10] START criterion=gini, max_depth=2, max_features=None, min_samples_leaf=5, min_samples_split=20, n_estimators=100\n",
      "[CV 2/5; 7/10] END criterion=gini, max_depth=2, max_features=None, min_samples_leaf=5, min_samples_split=20, n_estimators=100;, score=nan total time=   3.1s\n",
      "[CV 3/5; 7/10] START criterion=gini, max_depth=2, max_features=None, min_samples_leaf=5, min_samples_split=20, n_estimators=100\n",
      "[CV 3/5; 7/10] END criterion=gini, max_depth=2, max_features=None, min_samples_leaf=5, min_samples_split=20, n_estimators=100;, score=nan total time=   3.2s\n",
      "[CV 4/5; 7/10] START criterion=gini, max_depth=2, max_features=None, min_samples_leaf=5, min_samples_split=20, n_estimators=100\n",
      "[CV 4/5; 7/10] END criterion=gini, max_depth=2, max_features=None, min_samples_leaf=5, min_samples_split=20, n_estimators=100;, score=nan total time=   2.8s\n",
      "[CV 5/5; 7/10] START criterion=gini, max_depth=2, max_features=None, min_samples_leaf=5, min_samples_split=20, n_estimators=100\n",
      "[CV 5/5; 7/10] END criterion=gini, max_depth=2, max_features=None, min_samples_leaf=5, min_samples_split=20, n_estimators=100;, score=nan total time=   2.8s\n",
      "[CV 1/5; 8/10] START criterion=gini, max_depth=7, max_features=None, min_samples_leaf=10, min_samples_split=2, n_estimators=200\n",
      "[CV 1/5; 8/10] END criterion=gini, max_depth=7, max_features=None, min_samples_leaf=10, min_samples_split=2, n_estimators=200;, score=nan total time=   3.1s\n",
      "[CV 2/5; 8/10] START criterion=gini, max_depth=7, max_features=None, min_samples_leaf=10, min_samples_split=2, n_estimators=200\n",
      "[CV 2/5; 8/10] END criterion=gini, max_depth=7, max_features=None, min_samples_leaf=10, min_samples_split=2, n_estimators=200;, score=nan total time=   2.4s\n",
      "[CV 3/5; 8/10] START criterion=gini, max_depth=7, max_features=None, min_samples_leaf=10, min_samples_split=2, n_estimators=200\n",
      "[CV 3/5; 8/10] END criterion=gini, max_depth=7, max_features=None, min_samples_leaf=10, min_samples_split=2, n_estimators=200;, score=nan total time=   2.2s\n",
      "[CV 4/5; 8/10] START criterion=gini, max_depth=7, max_features=None, min_samples_leaf=10, min_samples_split=2, n_estimators=200\n",
      "[CV 4/5; 8/10] END criterion=gini, max_depth=7, max_features=None, min_samples_leaf=10, min_samples_split=2, n_estimators=200;, score=nan total time=   3.0s\n",
      "[CV 5/5; 8/10] START criterion=gini, max_depth=7, max_features=None, min_samples_leaf=10, min_samples_split=2, n_estimators=200\n",
      "[CV 5/5; 8/10] END criterion=gini, max_depth=7, max_features=None, min_samples_leaf=10, min_samples_split=2, n_estimators=200;, score=nan total time=   2.8s\n",
      "[CV 1/5; 9/10] START criterion=gini, max_depth=2, max_features=log2, min_samples_leaf=5, min_samples_split=100, n_estimators=200\n",
      "[CV 1/5; 9/10] END criterion=gini, max_depth=2, max_features=log2, min_samples_leaf=5, min_samples_split=100, n_estimators=200;, score=-0.474 total time=   2.8s\n",
      "[CV 2/5; 9/10] START criterion=gini, max_depth=2, max_features=log2, min_samples_leaf=5, min_samples_split=100, n_estimators=200\n",
      "[CV 2/5; 9/10] END criterion=gini, max_depth=2, max_features=log2, min_samples_leaf=5, min_samples_split=100, n_estimators=200;, score=-0.476 total time=   0.3s\n",
      "[CV 3/5; 9/10] START criterion=gini, max_depth=2, max_features=log2, min_samples_leaf=5, min_samples_split=100, n_estimators=200\n",
      "[CV 3/5; 9/10] END criterion=gini, max_depth=2, max_features=log2, min_samples_leaf=5, min_samples_split=100, n_estimators=200;, score=-0.456 total time=   0.3s\n",
      "[CV 4/5; 9/10] START criterion=gini, max_depth=2, max_features=log2, min_samples_leaf=5, min_samples_split=100, n_estimators=200\n",
      "[CV 4/5; 9/10] END criterion=gini, max_depth=2, max_features=log2, min_samples_leaf=5, min_samples_split=100, n_estimators=200;, score=-0.480 total time=   0.3s\n",
      "[CV 5/5; 9/10] START criterion=gini, max_depth=2, max_features=log2, min_samples_leaf=5, min_samples_split=100, n_estimators=200\n",
      "[CV 5/5; 9/10] END criterion=gini, max_depth=2, max_features=log2, min_samples_leaf=5, min_samples_split=100, n_estimators=200;, score=-0.477 total time=   0.3s\n",
      "[CV 1/5; 10/10] START criterion=entropy, max_depth=5, max_features=sqrt, min_samples_leaf=10, min_samples_split=100, n_estimators=300\n",
      "[CV 1/5; 10/10] END criterion=entropy, max_depth=5, max_features=sqrt, min_samples_leaf=10, min_samples_split=100, n_estimators=300;, score=-0.423 total time=   0.6s\n",
      "[CV 2/5; 10/10] START criterion=entropy, max_depth=5, max_features=sqrt, min_samples_leaf=10, min_samples_split=100, n_estimators=300\n",
      "[CV 2/5; 10/10] END criterion=entropy, max_depth=5, max_features=sqrt, min_samples_leaf=10, min_samples_split=100, n_estimators=300;, score=-0.435 total time=   0.7s\n",
      "[CV 3/5; 10/10] START criterion=entropy, max_depth=5, max_features=sqrt, min_samples_leaf=10, min_samples_split=100, n_estimators=300\n",
      "[CV 3/5; 10/10] END criterion=entropy, max_depth=5, max_features=sqrt, min_samples_leaf=10, min_samples_split=100, n_estimators=300;, score=-0.398 total time=   0.7s\n",
      "[CV 4/5; 10/10] START criterion=entropy, max_depth=5, max_features=sqrt, min_samples_leaf=10, min_samples_split=100, n_estimators=300\n",
      "[CV 4/5; 10/10] END criterion=entropy, max_depth=5, max_features=sqrt, min_samples_leaf=10, min_samples_split=100, n_estimators=300;, score=-0.443 total time=   0.6s\n",
      "[CV 5/5; 10/10] START criterion=entropy, max_depth=5, max_features=sqrt, min_samples_leaf=10, min_samples_split=100, n_estimators=300\n",
      "[CV 5/5; 10/10] END criterion=entropy, max_depth=5, max_features=sqrt, min_samples_leaf=10, min_samples_split=100, n_estimators=300;, score=-0.430 total time=   0.8s\n",
      "Best score: -0.4173745899207721\n",
      "Best parameters set:\n",
      "\tcriterion: entropy\n",
      "\tmax_depth: 7\n",
      "\tmax_features: log2\n",
      "\tmin_samples_leaf: 2\n",
      "\tmin_samples_split: 20\n",
      "\tn_estimators: 200\n"
     ]
    }
   ],
   "source": [
    "# Lets do some hyperparameter tunning to find best parameter to train Randomforest\n",
    "\n",
    "param_grid = {'n_estimators' : [100, 200, 300, 400], \n",
    "             'max_depth' : [2,5,7,15],\n",
    "             'criterion' : ['gini', 'entropy'], \n",
    "             'min_samples_split' : [2,5,10,20,100], \n",
    "             'min_samples_leaf' : [2,5,10], \n",
    "             'max_features' : ['log2', 'sqrt', 'None']}\n",
    "\n",
    "rf_clf = RandomForestClassifier(n_jobs = -1, random_state = 0)\n",
    "\n",
    "model = RandomizedSearchCV(estimator = rf_clf,\n",
    "                          param_distributions = param_grid,\n",
    "                          scoring = 'neg_log_loss',\n",
    "                          verbose = 10,\n",
    "                          n_jobs = 1,\n",
    "                          cv = StratifiedKFold(5, shuffle = True))\n",
    "\n",
    "model.fit(x, y)\n",
    "\n",
    "print(f'Best score: {model.best_score_}')\n",
    "print('Best parameters set:')\n",
    "\n",
    "best_parameters = model.best_estimator_.get_params()\n",
    "for param_name in sorted(param_grid.keys()):\n",
    "    print(f'\\t{param_name}: {best_parameters[param_name]}')"
   ]
  },
  {
   "cell_type": "markdown",
   "id": "0adf73d1",
   "metadata": {
    "papermill": {
     "duration": 0.072288,
     "end_time": "2021-12-21T16:50:53.531022",
     "exception": false,
     "start_time": "2021-12-21T16:50:53.458734",
     "status": "completed"
    },
    "tags": []
   },
   "source": [
    "Ok, After so many iterations, we finally have best parameters to train Randomforest classifier\n",
    "\n",
    "Best parameters set:\n",
    "\n",
    "\tcriterion: entropy\n",
    "    \n",
    "\tmax_depth: 15\n",
    "    \n",
    "\tmax_features: sqrt\n",
    "    \n",
    "\tmin_samples_leaf: 10\n",
    "    \n",
    "\tmin_samples_split: 2\n",
    "    \n",
    "\tn_estimators: 300\n",
    "    "
   ]
  },
  {
   "cell_type": "markdown",
   "id": "973d387d",
   "metadata": {
    "papermill": {
     "duration": 0.072278,
     "end_time": "2021-12-21T16:50:53.675562",
     "exception": false,
     "start_time": "2021-12-21T16:50:53.603284",
     "status": "completed"
    },
    "tags": []
   },
   "source": [
    "Let's verify these data using GridserchCV, Im not trying to be greedy, but just cant trust Randomseach :)\n",
    "\n",
    "Now we will use values of parameters in viscinity of above values specified by Randomsearchcv"
   ]
  },
  {
   "cell_type": "code",
   "execution_count": 32,
   "id": "a0705a8e",
   "metadata": {
    "papermill": {
     "duration": 0.085038,
     "end_time": "2021-12-21T16:50:53.833162",
     "exception": false,
     "start_time": "2021-12-21T16:50:53.748124",
     "status": "completed"
    },
    "tags": []
   },
   "outputs": [],
   "source": [
    "param_grid = {'criterion': ['entropy'],\n",
    "             'max_depth' : [7,10,15,20],\n",
    "             'max_features' : ['sqrt'],\n",
    "             'min_samples_leaf' : [5, 8,10,12, 15],\n",
    "             'min_samples_split' : [2,3,4,5,6,10],\n",
    "             'n_estimators' : [100,200,300,400]}"
   ]
  },
  {
   "cell_type": "code",
   "execution_count": 33,
   "id": "c8cc039a",
   "metadata": {
    "papermill": {
     "duration": 0.080609,
     "end_time": "2021-12-21T16:50:53.988391",
     "exception": false,
     "start_time": "2021-12-21T16:50:53.907782",
     "status": "completed"
    },
    "tags": []
   },
   "outputs": [],
   "source": [
    "from sklearn.model_selection import GridSearchCV\n",
    "\n",
    "rf = RandomForestClassifier()\n",
    "gsearch = GridSearchCV(estimator=rf, param_grid = param_grid, cv = 3, n_jobs = -1)"
   ]
  },
  {
   "cell_type": "code",
   "execution_count": 34,
   "id": "491abdf0",
   "metadata": {
    "papermill": {
     "duration": 648.952069,
     "end_time": "2021-12-21T17:01:43.013459",
     "exception": false,
     "start_time": "2021-12-21T16:50:54.061390",
     "status": "completed"
    },
    "tags": []
   },
   "outputs": [
    {
     "data": {
      "text/plain": [
       "GridSearchCV(cv=3, estimator=RandomForestClassifier(), n_jobs=-1,\n",
       "             param_grid={'criterion': ['entropy'], 'max_depth': [7, 10, 15, 20],\n",
       "                         'max_features': ['sqrt'],\n",
       "                         'min_samples_leaf': [5, 8, 10, 12, 15],\n",
       "                         'min_samples_split': [2, 3, 4, 5, 6, 10],\n",
       "                         'n_estimators': [100, 200, 300, 400]})"
      ]
     },
     "execution_count": 34,
     "metadata": {},
     "output_type": "execute_result"
    }
   ],
   "source": [
    "# This will take lot of time\n",
    "\n",
    "gsearch.fit(xtrain, ytrain)"
   ]
  },
  {
   "cell_type": "markdown",
   "id": "94178ac2",
   "metadata": {
    "papermill": {
     "duration": 0.07092,
     "end_time": "2021-12-21T17:01:43.157244",
     "exception": false,
     "start_time": "2021-12-21T17:01:43.086324",
     "status": "completed"
    },
    "tags": []
   },
   "source": [
    "\n",
    "Please finish your breakfast, lunch and dinner, before you have final answer :)\n",
    "\n",
    "hurray we have value, After a decade long wait"
   ]
  },
  {
   "cell_type": "code",
   "execution_count": 35,
   "id": "532d39be",
   "metadata": {
    "papermill": {
     "duration": 0.10149,
     "end_time": "2021-12-21T17:01:43.330648",
     "exception": false,
     "start_time": "2021-12-21T17:01:43.229158",
     "status": "completed"
    },
    "tags": []
   },
   "outputs": [
    {
     "data": {
      "text/plain": [
       "RandomForestClassifier(criterion='entropy', max_depth=20, max_features='sqrt',\n",
       "                       min_samples_leaf=10, min_samples_split=10)"
      ]
     },
     "execution_count": 35,
     "metadata": {},
     "output_type": "execute_result"
    }
   ],
   "source": [
    "gsearch.best_estimator_"
   ]
  },
  {
   "cell_type": "markdown",
   "id": "124d8c27",
   "metadata": {
    "papermill": {
     "duration": 0.071654,
     "end_time": "2021-12-21T17:01:43.481610",
     "exception": false,
     "start_time": "2021-12-21T17:01:43.409956",
     "status": "completed"
    },
    "tags": []
   },
   "source": [
    "We should have trusted Randomizedserch, we have approximately same answer for each parameter :("
   ]
  },
  {
   "cell_type": "code",
   "execution_count": 36,
   "id": "25d04f68",
   "metadata": {
    "papermill": {
     "duration": 1.957228,
     "end_time": "2021-12-21T17:01:45.510339",
     "exception": false,
     "start_time": "2021-12-21T17:01:43.553111",
     "status": "completed"
    },
    "tags": []
   },
   "outputs": [
    {
     "name": "stdout",
     "output_type": "stream",
     "text": [
      "0.8017057569296375\n",
      "[[945  88]\n",
      " [191 183]]\n"
     ]
    }
   ],
   "source": [
    "clf_final = RandomForestClassifier(criterion='entropy',\n",
    "                                   max_depth=20,\n",
    "                                   max_features='sqrt',\n",
    "                                   min_samples_leaf=12,\n",
    "                                   min_samples_split=3,\n",
    "                                   n_estimators = 300)\n",
    "clf_final.fit(xtrain, ytrain)\n",
    "clf_pred = clf_final.predict(xtest)\n",
    "print(accuracy_score(ytest, clf_pred))\n",
    "print(confusion_matrix(ytest, clf_pred))"
   ]
  },
  {
   "cell_type": "markdown",
   "id": "3acc7486",
   "metadata": {
    "papermill": {
     "duration": 0.071115,
     "end_time": "2021-12-21T17:01:45.653882",
     "exception": false,
     "start_time": "2021-12-21T17:01:45.582767",
     "status": "completed"
    },
    "tags": []
   },
   "source": [
    "Wow, this is frustrating, after so many iterations, no measurable change in accuracy, \n",
    "\n",
    "It has to be imbalance present in dataset\n",
    "\n",
    "Lets tackle that"
   ]
  },
  {
   "cell_type": "markdown",
   "id": "1e5f5877",
   "metadata": {
    "papermill": {
     "duration": 0.07142,
     "end_time": "2021-12-21T17:01:45.797155",
     "exception": false,
     "start_time": "2021-12-21T17:01:45.725735",
     "status": "completed"
    },
    "tags": []
   },
   "source": [
    "Lets use SMOTETomek from imblearn library\n",
    "\n",
    "You guys, if following this code, Please comment full form of SMOTETomek, be honest dont google it :)"
   ]
  },
  {
   "cell_type": "code",
   "execution_count": 37,
   "id": "48e2cc3e",
   "metadata": {
    "papermill": {
     "duration": 1.31675,
     "end_time": "2021-12-21T17:01:47.186647",
     "exception": false,
     "start_time": "2021-12-21T17:01:45.869897",
     "status": "completed"
    },
    "tags": []
   },
   "outputs": [
    {
     "name": "stdout",
     "output_type": "stream",
     "text": [
      "The number of classes before fit Counter({0: 5163, 1: 1869})\n",
      "The number of classes after fit Counter({0: 4848, 1: 3815})\n"
     ]
    }
   ],
   "source": [
    "from imblearn.combine import SMOTETomek\n",
    "from collections import Counter\n",
    "os=SMOTETomek(0.8)\n",
    "xover,yover=os.fit_resample(x,y)\n",
    "print(\"The number of classes before fit {}\".format(Counter(y)))\n",
    "print(\"The number of classes after fit {}\".format(Counter(yover)))"
   ]
  },
  {
   "cell_type": "markdown",
   "id": "2a024a73",
   "metadata": {
    "papermill": {
     "duration": 0.072172,
     "end_time": "2021-12-21T17:01:47.331900",
     "exception": false,
     "start_time": "2021-12-21T17:01:47.259728",
     "status": "completed"
    },
    "tags": []
   },
   "source": [
    "So we increased minority class to 80% of majority class "
   ]
  },
  {
   "cell_type": "code",
   "execution_count": 38,
   "id": "194ed5c5",
   "metadata": {
    "papermill": {
     "duration": 4.854682,
     "end_time": "2021-12-21T17:01:52.260568",
     "exception": false,
     "start_time": "2021-12-21T17:01:47.405886",
     "status": "completed"
    },
    "tags": []
   },
   "outputs": [
    {
     "name": "stdout",
     "output_type": "stream",
     "text": [
      "0.8661281015579919\n",
      "[[852 118]\n",
      " [114 649]]\n",
      "0.8649740334679746\n",
      "[[862 108]\n",
      " [126 637]]\n",
      "0.8672821696480092\n",
      "[[857 113]\n",
      " [117 646]]\n",
      "0.8556581986143187\n",
      "[[862 107]\n",
      " [143 620]]\n",
      "0.8654734411085451\n",
      "[[862 107]\n",
      " [126 637]]\n"
     ]
    }
   ],
   "source": [
    "# lets train basic Randomforest classifier to get notion of how effective this imbalance is\n",
    "\n",
    "rf_param = {}\n",
    "rf_model = skfold_cv(xover, yover, RandomForestClassifier, rf_param)"
   ]
  },
  {
   "cell_type": "markdown",
   "id": "8f247d1d",
   "metadata": {
    "papermill": {
     "duration": 0.073508,
     "end_time": "2021-12-21T17:01:52.407888",
     "exception": false,
     "start_time": "2021-12-21T17:01:52.334380",
     "status": "completed"
    },
    "tags": []
   },
   "source": [
    "That is clear now, we have found culprit, it is imbalanceness of data\n",
    "\n",
    "Now, lets do some hyperparameter tuning"
   ]
  },
  {
   "cell_type": "code",
   "execution_count": 39,
   "id": "e09dc7da",
   "metadata": {
    "papermill": {
     "duration": 64.881729,
     "end_time": "2021-12-21T17:02:57.363480",
     "exception": false,
     "start_time": "2021-12-21T17:01:52.481751",
     "status": "completed"
    },
    "tags": []
   },
   "outputs": [
    {
     "name": "stdout",
     "output_type": "stream",
     "text": [
      "Fitting 5 folds for each of 10 candidates, totalling 50 fits\n",
      "[CV 1/5; 1/10] START criterion=entropy, max_depth=7, max_features=None, min_samples_leaf=10, min_samples_split=10, n_estimators=400\n",
      "[CV 1/5; 1/10] END criterion=entropy, max_depth=7, max_features=None, min_samples_leaf=10, min_samples_split=10, n_estimators=400;, score=nan total time=   0.1s\n",
      "[CV 2/5; 1/10] START criterion=entropy, max_depth=7, max_features=None, min_samples_leaf=10, min_samples_split=10, n_estimators=400\n",
      "[CV 2/5; 1/10] END criterion=entropy, max_depth=7, max_features=None, min_samples_leaf=10, min_samples_split=10, n_estimators=400;, score=nan total time=   2.5s\n",
      "[CV 3/5; 1/10] START criterion=entropy, max_depth=7, max_features=None, min_samples_leaf=10, min_samples_split=10, n_estimators=400\n",
      "[CV 3/5; 1/10] END criterion=entropy, max_depth=7, max_features=None, min_samples_leaf=10, min_samples_split=10, n_estimators=400;, score=nan total time=   2.9s\n",
      "[CV 4/5; 1/10] START criterion=entropy, max_depth=7, max_features=None, min_samples_leaf=10, min_samples_split=10, n_estimators=400\n",
      "[CV 4/5; 1/10] END criterion=entropy, max_depth=7, max_features=None, min_samples_leaf=10, min_samples_split=10, n_estimators=400;, score=nan total time=   2.2s\n",
      "[CV 5/5; 1/10] START criterion=entropy, max_depth=7, max_features=None, min_samples_leaf=10, min_samples_split=10, n_estimators=400\n",
      "[CV 5/5; 1/10] END criterion=entropy, max_depth=7, max_features=None, min_samples_leaf=10, min_samples_split=10, n_estimators=400;, score=nan total time=   2.5s\n",
      "[CV 1/5; 2/10] START criterion=entropy, max_depth=5, max_features=log2, min_samples_leaf=2, min_samples_split=20, n_estimators=400\n",
      "[CV 1/5; 2/10] END criterion=entropy, max_depth=5, max_features=log2, min_samples_leaf=2, min_samples_split=20, n_estimators=400;, score=-0.412 total time=   2.7s\n",
      "[CV 2/5; 2/10] START criterion=entropy, max_depth=5, max_features=log2, min_samples_leaf=2, min_samples_split=20, n_estimators=400\n",
      "[CV 2/5; 2/10] END criterion=entropy, max_depth=5, max_features=log2, min_samples_leaf=2, min_samples_split=20, n_estimators=400;, score=-0.429 total time=   1.0s\n",
      "[CV 3/5; 2/10] START criterion=entropy, max_depth=5, max_features=log2, min_samples_leaf=2, min_samples_split=20, n_estimators=400\n",
      "[CV 3/5; 2/10] END criterion=entropy, max_depth=5, max_features=log2, min_samples_leaf=2, min_samples_split=20, n_estimators=400;, score=-0.422 total time=   1.0s\n",
      "[CV 4/5; 2/10] START criterion=entropy, max_depth=5, max_features=log2, min_samples_leaf=2, min_samples_split=20, n_estimators=400\n",
      "[CV 4/5; 2/10] END criterion=entropy, max_depth=5, max_features=log2, min_samples_leaf=2, min_samples_split=20, n_estimators=400;, score=-0.413 total time=   0.7s\n",
      "[CV 5/5; 2/10] START criterion=entropy, max_depth=5, max_features=log2, min_samples_leaf=2, min_samples_split=20, n_estimators=400\n",
      "[CV 5/5; 2/10] END criterion=entropy, max_depth=5, max_features=log2, min_samples_leaf=2, min_samples_split=20, n_estimators=400;, score=-0.424 total time=   0.6s\n",
      "[CV 1/5; 3/10] START criterion=gini, max_depth=15, max_features=sqrt, min_samples_leaf=5, min_samples_split=10, n_estimators=400\n",
      "[CV 1/5; 3/10] END criterion=gini, max_depth=15, max_features=sqrt, min_samples_leaf=5, min_samples_split=10, n_estimators=400;, score=-0.348 total time=   1.0s\n",
      "[CV 2/5; 3/10] START criterion=gini, max_depth=15, max_features=sqrt, min_samples_leaf=5, min_samples_split=10, n_estimators=400\n",
      "[CV 2/5; 3/10] END criterion=gini, max_depth=15, max_features=sqrt, min_samples_leaf=5, min_samples_split=10, n_estimators=400;, score=-0.370 total time=   1.0s\n",
      "[CV 3/5; 3/10] START criterion=gini, max_depth=15, max_features=sqrt, min_samples_leaf=5, min_samples_split=10, n_estimators=400\n",
      "[CV 3/5; 3/10] END criterion=gini, max_depth=15, max_features=sqrt, min_samples_leaf=5, min_samples_split=10, n_estimators=400;, score=-0.360 total time=   0.8s\n",
      "[CV 4/5; 3/10] START criterion=gini, max_depth=15, max_features=sqrt, min_samples_leaf=5, min_samples_split=10, n_estimators=400\n",
      "[CV 4/5; 3/10] END criterion=gini, max_depth=15, max_features=sqrt, min_samples_leaf=5, min_samples_split=10, n_estimators=400;, score=-0.349 total time=   1.3s\n",
      "[CV 5/5; 3/10] START criterion=gini, max_depth=15, max_features=sqrt, min_samples_leaf=5, min_samples_split=10, n_estimators=400\n",
      "[CV 5/5; 3/10] END criterion=gini, max_depth=15, max_features=sqrt, min_samples_leaf=5, min_samples_split=10, n_estimators=400;, score=-0.370 total time=   1.3s\n",
      "[CV 1/5; 4/10] START criterion=entropy, max_depth=5, max_features=sqrt, min_samples_leaf=10, min_samples_split=100, n_estimators=200\n",
      "[CV 1/5; 4/10] END criterion=entropy, max_depth=5, max_features=sqrt, min_samples_leaf=10, min_samples_split=100, n_estimators=200;, score=-0.416 total time=   0.4s\n",
      "[CV 2/5; 4/10] START criterion=entropy, max_depth=5, max_features=sqrt, min_samples_leaf=10, min_samples_split=100, n_estimators=200\n",
      "[CV 2/5; 4/10] END criterion=entropy, max_depth=5, max_features=sqrt, min_samples_leaf=10, min_samples_split=100, n_estimators=200;, score=-0.431 total time=   0.3s\n",
      "[CV 3/5; 4/10] START criterion=entropy, max_depth=5, max_features=sqrt, min_samples_leaf=10, min_samples_split=100, n_estimators=200\n",
      "[CV 3/5; 4/10] END criterion=entropy, max_depth=5, max_features=sqrt, min_samples_leaf=10, min_samples_split=100, n_estimators=200;, score=-0.424 total time=   0.3s\n",
      "[CV 4/5; 4/10] START criterion=entropy, max_depth=5, max_features=sqrt, min_samples_leaf=10, min_samples_split=100, n_estimators=200\n",
      "[CV 4/5; 4/10] END criterion=entropy, max_depth=5, max_features=sqrt, min_samples_leaf=10, min_samples_split=100, n_estimators=200;, score=-0.413 total time=   0.3s\n",
      "[CV 5/5; 4/10] START criterion=entropy, max_depth=5, max_features=sqrt, min_samples_leaf=10, min_samples_split=100, n_estimators=200\n",
      "[CV 5/5; 4/10] END criterion=entropy, max_depth=5, max_features=sqrt, min_samples_leaf=10, min_samples_split=100, n_estimators=200;, score=-0.426 total time=   0.4s\n",
      "[CV 1/5; 5/10] START criterion=entropy, max_depth=5, max_features=sqrt, min_samples_leaf=2, min_samples_split=100, n_estimators=100\n",
      "[CV 1/5; 5/10] END criterion=entropy, max_depth=5, max_features=sqrt, min_samples_leaf=2, min_samples_split=100, n_estimators=100;, score=-0.415 total time=   0.2s\n",
      "[CV 2/5; 5/10] START criterion=entropy, max_depth=5, max_features=sqrt, min_samples_leaf=2, min_samples_split=100, n_estimators=100\n",
      "[CV 2/5; 5/10] END criterion=entropy, max_depth=5, max_features=sqrt, min_samples_leaf=2, min_samples_split=100, n_estimators=100;, score=-0.429 total time=   0.2s\n",
      "[CV 3/5; 5/10] START criterion=entropy, max_depth=5, max_features=sqrt, min_samples_leaf=2, min_samples_split=100, n_estimators=100\n",
      "[CV 3/5; 5/10] END criterion=entropy, max_depth=5, max_features=sqrt, min_samples_leaf=2, min_samples_split=100, n_estimators=100;, score=-0.423 total time=   0.2s\n",
      "[CV 4/5; 5/10] START criterion=entropy, max_depth=5, max_features=sqrt, min_samples_leaf=2, min_samples_split=100, n_estimators=100\n",
      "[CV 4/5; 5/10] END criterion=entropy, max_depth=5, max_features=sqrt, min_samples_leaf=2, min_samples_split=100, n_estimators=100;, score=-0.413 total time=   0.2s\n",
      "[CV 5/5; 5/10] START criterion=entropy, max_depth=5, max_features=sqrt, min_samples_leaf=2, min_samples_split=100, n_estimators=100\n",
      "[CV 5/5; 5/10] END criterion=entropy, max_depth=5, max_features=sqrt, min_samples_leaf=2, min_samples_split=100, n_estimators=100;, score=-0.425 total time=   0.1s\n",
      "[CV 1/5; 6/10] START criterion=entropy, max_depth=5, max_features=log2, min_samples_leaf=10, min_samples_split=2, n_estimators=200\n",
      "[CV 1/5; 6/10] END criterion=entropy, max_depth=5, max_features=log2, min_samples_leaf=10, min_samples_split=2, n_estimators=200;, score=-0.413 total time=   0.3s\n",
      "[CV 2/5; 6/10] START criterion=entropy, max_depth=5, max_features=log2, min_samples_leaf=10, min_samples_split=2, n_estimators=200\n",
      "[CV 2/5; 6/10] END criterion=entropy, max_depth=5, max_features=log2, min_samples_leaf=10, min_samples_split=2, n_estimators=200;, score=-0.430 total time=   0.3s\n",
      "[CV 3/5; 6/10] START criterion=entropy, max_depth=5, max_features=log2, min_samples_leaf=10, min_samples_split=2, n_estimators=200\n",
      "[CV 3/5; 6/10] END criterion=entropy, max_depth=5, max_features=log2, min_samples_leaf=10, min_samples_split=2, n_estimators=200;, score=-0.423 total time=   0.3s\n",
      "[CV 4/5; 6/10] START criterion=entropy, max_depth=5, max_features=log2, min_samples_leaf=10, min_samples_split=2, n_estimators=200\n",
      "[CV 4/5; 6/10] END criterion=entropy, max_depth=5, max_features=log2, min_samples_leaf=10, min_samples_split=2, n_estimators=200;, score=-0.415 total time=   0.4s\n",
      "[CV 5/5; 6/10] START criterion=entropy, max_depth=5, max_features=log2, min_samples_leaf=10, min_samples_split=2, n_estimators=200\n",
      "[CV 5/5; 6/10] END criterion=entropy, max_depth=5, max_features=log2, min_samples_leaf=10, min_samples_split=2, n_estimators=200;, score=-0.425 total time=   0.5s\n",
      "[CV 1/5; 7/10] START criterion=entropy, max_depth=2, max_features=log2, min_samples_leaf=5, min_samples_split=10, n_estimators=400\n",
      "[CV 1/5; 7/10] END criterion=entropy, max_depth=2, max_features=log2, min_samples_leaf=5, min_samples_split=10, n_estimators=400;, score=-0.501 total time=   0.6s\n",
      "[CV 2/5; 7/10] START criterion=entropy, max_depth=2, max_features=log2, min_samples_leaf=5, min_samples_split=10, n_estimators=400\n",
      "[CV 2/5; 7/10] END criterion=entropy, max_depth=2, max_features=log2, min_samples_leaf=5, min_samples_split=10, n_estimators=400;, score=-0.509 total time=   0.4s\n",
      "[CV 3/5; 7/10] START criterion=entropy, max_depth=2, max_features=log2, min_samples_leaf=5, min_samples_split=10, n_estimators=400\n",
      "[CV 3/5; 7/10] END criterion=entropy, max_depth=2, max_features=log2, min_samples_leaf=5, min_samples_split=10, n_estimators=400;, score=-0.507 total time=   0.4s\n",
      "[CV 4/5; 7/10] START criterion=entropy, max_depth=2, max_features=log2, min_samples_leaf=5, min_samples_split=10, n_estimators=400\n",
      "[CV 4/5; 7/10] END criterion=entropy, max_depth=2, max_features=log2, min_samples_leaf=5, min_samples_split=10, n_estimators=400;, score=-0.503 total time=   0.7s\n",
      "[CV 5/5; 7/10] START criterion=entropy, max_depth=2, max_features=log2, min_samples_leaf=5, min_samples_split=10, n_estimators=400\n",
      "[CV 5/5; 7/10] END criterion=entropy, max_depth=2, max_features=log2, min_samples_leaf=5, min_samples_split=10, n_estimators=400;, score=-0.507 total time=   0.8s\n",
      "[CV 1/5; 8/10] START criterion=entropy, max_depth=2, max_features=None, min_samples_leaf=5, min_samples_split=2, n_estimators=200\n",
      "[CV 1/5; 8/10] END criterion=entropy, max_depth=2, max_features=None, min_samples_leaf=5, min_samples_split=2, n_estimators=200;, score=nan total time=   0.2s\n",
      "[CV 2/5; 8/10] START criterion=entropy, max_depth=2, max_features=None, min_samples_leaf=5, min_samples_split=2, n_estimators=200\n",
      "[CV 2/5; 8/10] END criterion=entropy, max_depth=2, max_features=None, min_samples_leaf=5, min_samples_split=2, n_estimators=200;, score=nan total time=   2.7s\n",
      "[CV 3/5; 8/10] START criterion=entropy, max_depth=2, max_features=None, min_samples_leaf=5, min_samples_split=2, n_estimators=200\n",
      "[CV 3/5; 8/10] END criterion=entropy, max_depth=2, max_features=None, min_samples_leaf=5, min_samples_split=2, n_estimators=200;, score=nan total time=   2.7s\n",
      "[CV 4/5; 8/10] START criterion=entropy, max_depth=2, max_features=None, min_samples_leaf=5, min_samples_split=2, n_estimators=200\n",
      "[CV 4/5; 8/10] END criterion=entropy, max_depth=2, max_features=None, min_samples_leaf=5, min_samples_split=2, n_estimators=200;, score=nan total time=   2.9s\n",
      "[CV 5/5; 8/10] START criterion=entropy, max_depth=2, max_features=None, min_samples_leaf=5, min_samples_split=2, n_estimators=200\n",
      "[CV 5/5; 8/10] END criterion=entropy, max_depth=2, max_features=None, min_samples_leaf=5, min_samples_split=2, n_estimators=200;, score=nan total time=   1.9s\n",
      "[CV 1/5; 9/10] START criterion=gini, max_depth=7, max_features=None, min_samples_leaf=2, min_samples_split=20, n_estimators=300\n",
      "[CV 1/5; 9/10] END criterion=gini, max_depth=7, max_features=None, min_samples_leaf=2, min_samples_split=20, n_estimators=300;, score=nan total time=   2.9s\n",
      "[CV 2/5; 9/10] START criterion=gini, max_depth=7, max_features=None, min_samples_leaf=2, min_samples_split=20, n_estimators=300\n",
      "[CV 2/5; 9/10] END criterion=gini, max_depth=7, max_features=None, min_samples_leaf=2, min_samples_split=20, n_estimators=300;, score=nan total time=   2.8s\n",
      "[CV 3/5; 9/10] START criterion=gini, max_depth=7, max_features=None, min_samples_leaf=2, min_samples_split=20, n_estimators=300\n",
      "[CV 3/5; 9/10] END criterion=gini, max_depth=7, max_features=None, min_samples_leaf=2, min_samples_split=20, n_estimators=300;, score=nan total time=   3.0s\n",
      "[CV 4/5; 9/10] START criterion=gini, max_depth=7, max_features=None, min_samples_leaf=2, min_samples_split=20, n_estimators=300\n",
      "[CV 4/5; 9/10] END criterion=gini, max_depth=7, max_features=None, min_samples_leaf=2, min_samples_split=20, n_estimators=300;, score=nan total time=   3.0s\n",
      "[CV 5/5; 9/10] START criterion=gini, max_depth=7, max_features=None, min_samples_leaf=2, min_samples_split=20, n_estimators=300\n",
      "[CV 5/5; 9/10] END criterion=gini, max_depth=7, max_features=None, min_samples_leaf=2, min_samples_split=20, n_estimators=300;, score=nan total time=   2.3s\n",
      "[CV 1/5; 10/10] START criterion=entropy, max_depth=2, max_features=sqrt, min_samples_leaf=5, min_samples_split=100, n_estimators=300\n",
      "[CV 1/5; 10/10] END criterion=entropy, max_depth=2, max_features=sqrt, min_samples_leaf=5, min_samples_split=100, n_estimators=300;, score=-0.502 total time=   4.0s\n",
      "[CV 2/5; 10/10] START criterion=entropy, max_depth=2, max_features=sqrt, min_samples_leaf=5, min_samples_split=100, n_estimators=300\n",
      "[CV 2/5; 10/10] END criterion=entropy, max_depth=2, max_features=sqrt, min_samples_leaf=5, min_samples_split=100, n_estimators=300;, score=-0.509 total time=   0.8s\n",
      "[CV 3/5; 10/10] START criterion=entropy, max_depth=2, max_features=sqrt, min_samples_leaf=5, min_samples_split=100, n_estimators=300\n",
      "[CV 3/5; 10/10] END criterion=entropy, max_depth=2, max_features=sqrt, min_samples_leaf=5, min_samples_split=100, n_estimators=300;, score=-0.507 total time=   0.4s\n",
      "[CV 4/5; 10/10] START criterion=entropy, max_depth=2, max_features=sqrt, min_samples_leaf=5, min_samples_split=100, n_estimators=300\n",
      "[CV 4/5; 10/10] END criterion=entropy, max_depth=2, max_features=sqrt, min_samples_leaf=5, min_samples_split=100, n_estimators=300;, score=-0.503 total time=   0.5s\n",
      "[CV 5/5; 10/10] START criterion=entropy, max_depth=2, max_features=sqrt, min_samples_leaf=5, min_samples_split=100, n_estimators=300\n",
      "[CV 5/5; 10/10] END criterion=entropy, max_depth=2, max_features=sqrt, min_samples_leaf=5, min_samples_split=100, n_estimators=300;, score=-0.508 total time=   0.8s\n",
      "Best score: -0.3593101849478284\n",
      "Best parameters set:\n",
      "\tcriterion: gini\n",
      "\tmax_depth: 15\n",
      "\tmax_features: sqrt\n",
      "\tmin_samples_leaf: 5\n",
      "\tmin_samples_split: 10\n",
      "\tn_estimators: 400\n"
     ]
    }
   ],
   "source": [
    "param_grid = {'n_estimators' : [100, 200, 300, 400], \n",
    "             'max_depth' : [2,5,7,15],\n",
    "             'criterion' : ['gini', 'entropy'], \n",
    "             'min_samples_split' : [2,5,10,20,100], \n",
    "             'min_samples_leaf' : [2,5,10], \n",
    "             'max_features' : ['log2', 'sqrt', 'None']}\n",
    "\n",
    "rf_clf = RandomForestClassifier(n_jobs = -1, random_state = 0)\n",
    "\n",
    "model = RandomizedSearchCV(estimator = rf_clf,\n",
    "                          param_distributions = param_grid,\n",
    "                          scoring = 'neg_log_loss',\n",
    "                          verbose = 10,\n",
    "                          n_jobs = 1,\n",
    "                          cv = StratifiedKFold(5, shuffle = True))\n",
    "\n",
    "model.fit(xover, yover)\n",
    "\n",
    "print(f'Best score: {model.best_score_}')\n",
    "print('Best parameters set:')\n",
    "\n",
    "best_parameters = model.best_estimator_.get_params()\n",
    "for param_name in sorted(param_grid.keys()):\n",
    "    print(f'\\t{param_name}: {best_parameters[param_name]}')"
   ]
  },
  {
   "cell_type": "markdown",
   "id": "7a4e348a",
   "metadata": {
    "papermill": {
     "duration": 0.09278,
     "end_time": "2021-12-21T17:02:57.550582",
     "exception": false,
     "start_time": "2021-12-21T17:02:57.457802",
     "status": "completed"
    },
    "tags": []
   },
   "source": [
    "No Gridsearch now, I am not cruel :)"
   ]
  },
  {
   "cell_type": "code",
   "execution_count": 40,
   "id": "b38622fb",
   "metadata": {
    "papermill": {
     "duration": 18.149506,
     "end_time": "2021-12-21T17:03:15.793061",
     "exception": false,
     "start_time": "2021-12-21T17:02:57.643555",
     "status": "completed"
    },
    "tags": []
   },
   "outputs": [
    {
     "name": "stdout",
     "output_type": "stream",
     "text": [
      "0.842469705712637\n",
      "[[822 148]\n",
      " [125 638]]\n",
      "0.8465089440276976\n",
      "[[828 142]\n",
      " [124 639]]\n",
      "0.8395845354875938\n",
      "[[829 141]\n",
      " [137 626]]\n",
      "0.8400692840646651\n",
      "[[832 137]\n",
      " [140 623]]\n",
      "0.8464203233256351\n",
      "[[842 127]\n",
      " [139 624]]\n"
     ]
    }
   ],
   "source": [
    "rf_params = {'n_estimators' : 400,\n",
    "            'max_depth': 20,\n",
    "            'max_features': 'log2',\n",
    "            'criterion': 'entropy',\n",
    "            'min_samples_leaf': 5,\n",
    "            'min_samples_split': 20}\n",
    "\n",
    "rf_model = skfold_cv(xover, yover, RandomForestClassifier, rf_params)"
   ]
  },
  {
   "cell_type": "markdown",
   "id": "cf267461",
   "metadata": {
    "papermill": {
     "duration": 0.095743,
     "end_time": "2021-12-21T17:03:15.984735",
     "exception": false,
     "start_time": "2021-12-21T17:03:15.888992",
     "status": "completed"
    },
    "tags": []
   },
   "source": [
    "Now, its upto you guyz, i will share new Notebook with Xgboost, Catboost using Hyperopt\n",
    "\n",
    "\n",
    "Thanks to all of you and you should be proud of you, if you are reading this line, please make sure you follow alongwith me on your system"
   ]
  }
 ],
 "metadata": {
  "kernelspec": {
   "display_name": "Python 3 (ipykernel)",
   "language": "python",
   "name": "python3"
  },
  "language_info": {
   "codemirror_mode": {
    "name": "ipython",
    "version": 3
   },
   "file_extension": ".py",
   "mimetype": "text/x-python",
   "name": "python",
   "nbconvert_exporter": "python",
   "pygments_lexer": "ipython3",
   "version": "3.9.8"
  },
  "papermill": {
   "default_parameters": {},
   "duration": 828.91943,
   "end_time": "2021-12-21T17:03:17.081469",
   "environment_variables": {},
   "exception": null,
   "input_path": "__notebook__.ipynb",
   "output_path": "__notebook__.ipynb",
   "parameters": {},
   "start_time": "2021-12-21T16:49:28.162039",
   "version": "2.3.3"
  }
 },
 "nbformat": 4,
 "nbformat_minor": 5
}
